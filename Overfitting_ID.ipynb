{
 "cells": [
  {
   "cell_type": "code",
   "execution_count": 187,
   "metadata": {},
   "outputs": [],
   "source": [
    "import pandas as pd\n",
    "import pprint\n",
    "from impyute.imputation.cs import mice#\n",
    "from sklearn.experimental import enable_iterative_imputer\n",
    "from sklearn.impute import IterativeImputer#\n",
    "import missingno as msno#\n",
    "import numpy as np\n",
    "from matplotlib import pyplot as plt\n",
    "from scipy.spatial.distance import squareform, pdist\n",
    "from missingpy import KNNImputer\n",
    "%matplotlib inline\n",
    "%config InlineBackend.figure_format = 'retina'\n",
    "import seaborn as sns\n",
    "sns.set()\n",
    "pd.set_option(\"display.max_rows\", 8)\n",
    "plt.rcParams['figure.figsize'] = (9, 6)\n",
    "from missingpy import MissForest\n",
    "import io\n",
    "from sklearn.preprocessing import StandardScaler, MinMaxScaler, MaxAbsScaler\n",
    "from sklearn.pipeline import Pipeline\n",
    "from sklearn.linear_model import LogisticRegression\n",
    "import pickle\n",
    "from sklearn.metrics import accuracy_score, precision_score, recall_score, f1_score, classification_report, confusion_matrix\n",
    "from sklearn import decomposition\n",
    "from mpl_toolkits.mplot3d import axes3d, Axes3D\n",
    "from sklearn.decomposition import PCA, KernelPCA\n",
    "from sklearn.datasets import make_circles\n",
    "from sklearn.svm import LinearSVC\n",
    "from sklearn import svm\n",
    "from sklearn.model_selection import GridSearchCV\n",
    "from sklearn.ensemble import RandomForestClassifier\n",
    "from sklearn.neighbors import KNeighborsClassifier\n",
    "from sklearn.ensemble import AdaBoostClassifier\n",
    "from sklearn.ensemble import GradientBoostingClassifier\n",
    "from sklearn.model_selection import LeaveOneOut\n",
    "from sklearn.model_selection import KFold\n",
    "from sklearn.preprocessing import LabelEncoder\n",
    "from sklearn.tree import DecisionTreeClassifier"
   ]
  },
  {
   "cell_type": "code",
   "execution_count": 188,
   "metadata": {
    "scrolled": true
   },
   "outputs": [],
   "source": [
    "Dapp = pd.read_csv(\"horse-colic.data\" , sep = \"\\s+\", names = [\"V\"+str(i) for i in range(28)])\n",
    "Dtest = pd.read_csv(\"horse-colic.test\" , sep = \"\\s+\", names = [\"V\"+str(i) for i in range(28)])\n",
    "liste_drop = [\"V22\",\"V23\",\"V24\",\"V25\",\"V26\",\"V27\"]\n",
    "Dapp = Dapp.drop(liste_drop , axis = 1)\n",
    "Dtest = Dtest.drop(liste_drop , axis = 1)\n",
    "Dapp = Dapp.replace(\"?\",np.nan)\n",
    "Dtest = Dtest.replace(\"?\",np.nan)\n",
    "\n",
    "#Dtest\n",
    "#Dapp\n",
    "#On utilisera une méthode d'imputation qui gère différentes types pour les variables ! (cf Référence)\n",
    "#On se doit tout de même spécifier le type des variables\n"
   ]
  },
  {
   "cell_type": "code",
   "execution_count": 189,
   "metadata": {},
   "outputs": [
    {
     "data": {
      "text/plain": [
       "['V3', 'V4', 'V5', 'V15', 'V18', 'V19', 'V21']"
      ]
     },
     "execution_count": 189,
     "metadata": {},
     "output_type": "execute_result"
    }
   ],
   "source": [
    "d = {}\n",
    "liste_categorical = [] ; liste_numerical = []\n",
    "for i in range(22):\n",
    "    if(i in list(range(3)) + list(range(6 , 15)) + [16 , 17 , 20]):\n",
    "        d[\"V\"+str(i)] = \"category\"\n",
    "        liste_categorical.append(\"V\"+str(i))\n",
    "    else:\n",
    "        d[\"V\"+str(i)] = \"float64\"\n",
    "        liste_numerical.append(\"V\"+str(i))\n",
    "liste_categorical\n",
    "liste_numerical"
   ]
  },
  {
   "cell_type": "code",
   "execution_count": 190,
   "metadata": {},
   "outputs": [],
   "source": [
    "label_V2 = list(set(list(Dapp.V2.unique()) + list(Dtest.V2.unique()) ))\n",
    "label_V2 = [str(x) for x in label_V2]\n"
   ]
  },
  {
   "cell_type": "code",
   "execution_count": 191,
   "metadata": {},
   "outputs": [
    {
     "name": "stderr",
     "output_type": "stream",
     "text": [
      "C:\\Users\\Benco\\Anaconda3\\lib\\site-packages\\pandas\\core\\indexing.py:494: SettingWithCopyWarning: \n",
      "A value is trying to be set on a copy of a slice from a DataFrame.\n",
      "Try using .loc[row_indexer,col_indexer] = value instead\n",
      "\n",
      "See the caveats in the documentation: http://pandas.pydata.org/pandas-docs/stable/user_guide/indexing.html#returning-a-view-versus-a-copy\n",
      "  self.obj[item] = s\n"
     ]
    }
   ],
   "source": [
    "Dapp = Dapp.astype(d)\n",
    "Dtest = Dtest.astype(d)\n",
    "Dapp_num = Dapp.select_dtypes(include=['float64']) ; Dapp_cat = Dapp.select_dtypes(include=['category'])\n",
    "Dtest_num = Dtest.select_dtypes(include=['float64']) ; Dtest_cat = Dtest.select_dtypes(include=['category'])\n",
    "Dtest_cat.loc[: , \"V9\"] = pd.Series(pd.Categorical(Dtest_cat.loc[: , \"V9\"], categories=[\"1\",\"2\",\"3\"]))\n",
    "Dtest_cat.loc[: , \"V2\"] = Dtest_cat.loc[: , \"V2\"].astype(\"str\")\n",
    "Dapp_cat.loc[: , \"V2\"] = Dapp_cat.loc[: , \"V2\"].astype(\"str\")\n",
    "Dtest_cat.loc[: , \"V2\"] = pd.Series(pd.Categorical(Dtest_cat.loc[: , \"V2\"], categories=label_V2))\n",
    "Dapp_cat.loc[: , \"V2\"] = pd.Series(pd.Categorical(Dapp_cat.loc[: , \"V2\"], categories=label_V2))\n"
   ]
  },
  {
   "cell_type": "code",
   "execution_count": 192,
   "metadata": {},
   "outputs": [],
   "source": [
    "def g(l):\n",
    "    return np.array([float(x) for x in l])\n",
    "\n",
    "imputed_training=mice(np.array(list(map(g , Dapp_num.values))))\n",
    "imputed_test = mice(np.array(list(map(g , Dtest_num.values))))\n",
    "\n",
    "Dapp_num_imputed = pd.DataFrame(list(map(np.ravel, (list(imputed_training))))).round(2)\n",
    "Dapp_num_imputed.columns = liste_numerical\n",
    "\n",
    "Dtest_num_imputed = pd.DataFrame(list(map(np.ravel, (list(imputed_test))))).round(2)\n",
    "Dtest_num_imputed.columns = liste_numerical"
   ]
  },
  {
   "cell_type": "code",
   "execution_count": 193,
   "metadata": {},
   "outputs": [
    {
     "name": "stderr",
     "output_type": "stream",
     "text": [
      "C:\\Users\\Benco\\Anaconda3\\lib\\site-packages\\sklearn\\utils\\validation.py:432: DeprecationWarning: 'warn_on_dtype' is deprecated in version 0.21 and will be removed in 0.23. Don't set `warn_on_dtype` to remove this warning.\n",
      "  DeprecationWarning)\n",
      "C:\\Users\\Benco\\Anaconda3\\lib\\site-packages\\sklearn\\utils\\validation.py:432: DeprecationWarning: 'warn_on_dtype' is deprecated in version 0.21 and will be removed in 0.23. Don't set `warn_on_dtype` to remove this warning.\n",
      "  DeprecationWarning)\n",
      "C:\\Users\\Benco\\Anaconda3\\lib\\site-packages\\sklearn\\utils\\validation.py:432: DeprecationWarning: 'warn_on_dtype' is deprecated in version 0.21 and will be removed in 0.23. Don't set `warn_on_dtype` to remove this warning.\n",
      "  DeprecationWarning)\n",
      "C:\\Users\\Benco\\Anaconda3\\lib\\site-packages\\sklearn\\utils\\validation.py:432: DeprecationWarning: 'warn_on_dtype' is deprecated in version 0.21 and will be removed in 0.23. Don't set `warn_on_dtype` to remove this warning.\n",
      "  DeprecationWarning)\n"
     ]
    }
   ],
   "source": [
    "## On a généré quelques valeurs négatives, il est nécessaire d'effectuer de nouvelles imputations sur nos données\n",
    "Dapp_num_imputed[Dapp_num_imputed < 0] = np.nan\n",
    "Dtest_num_imputed[Dtest_num_imputed < 0] = np.nan\n",
    "\n",
    "distances_app = pdist(Dapp_num_imputed.values, metric='euclidean')\n",
    "dist_matrix_app = squareform(distances_app)\n",
    "matrice_distance_app = pd.DataFrame(list(map(np.ravel, (list(dist_matrix_app))))).round(2)\n",
    "\n",
    "distances_test = pdist(Dtest_num_imputed.values, metric='euclidean')\n",
    "dist_matrix_test = squareform(distances_test)\n",
    "matrice_distance_test = pd.DataFrame(list(map(np.ravel, (list(dist_matrix_test))))).round(2)\n",
    "#on ne peut pas se permettre de prendre des poids uniformes\n",
    "#en effet, il se peut que le 2e plus proche soit en réalité très loin du point par rapport au premier\n",
    "\n",
    "imputer = KNNImputer(n_neighbors=15, weights=\"distance\")\n",
    "Dapp_num_imputed = pd.DataFrame(list(map(np.ravel, (list(imputer.fit_transform(Dapp_num_imputed)))))).round(2)\n",
    "\n",
    "imputer = KNNImputer(n_neighbors=3, weights=\"distance\")\n",
    "Dtest_num_imputed = pd.DataFrame(list(map(np.ravel, (list(imputer.fit_transform(Dtest_num_imputed)))))).round(2)\n",
    "\n",
    "Dapp_num_imputed.columns = liste_numerical ; Dtest_num_imputed.columns = liste_numerical\n",
    "#le choix du nombre de voisins est difficile, on fait donc des choix arbitraires\n"
   ]
  },
  {
   "cell_type": "code",
   "execution_count": 197,
   "metadata": {},
   "outputs": [
    {
     "data": {
      "text/plain": [
       "{'V3': 0.19999999999999996,\n",
       " 'V4': 0.07999999999999996,\n",
       " 'V5': 0.19333333333333336,\n",
       " 'V15': 0.8233333333333334,\n",
       " 'V18': 0.09666666666666668,\n",
       " 'V19': 0.10999999999999999,\n",
       " 'V21': 0.6599999999999999}"
      ]
     },
     "execution_count": 197,
     "metadata": {},
     "output_type": "execute_result"
    }
   ],
   "source": [
    "{lab : 1-(len(Dtest_num[lab].dropna())/len(Dtest_num)) for lab in liste_numerical} \n",
    "{lab : 1-(len(Dapp_num[lab].dropna())/len(Dapp_num)) for lab in liste_numerical} \n",
    "#proportion de données manquantes pour les variables quantitatives"
   ]
  },
  {
   "cell_type": "code",
   "execution_count": 195,
   "metadata": {},
   "outputs": [
    {
     "data": {
      "image/png": "[encoded data removed]",
      "text/plain": [
       "<Figure size 648x432 with 1 Axes>"
      ]
     },
     "metadata": {
      "image/png": {
       "height": 360,
       "width": 544
      }
     },
     "output_type": "display_data"
    }
   ],
   "source": [
    "x = Dapp_num.V21\n",
    "y = Dapp_num_imputed.V21\n",
    "#L'objectif est de comparer les distributions pour voir si l'on observe une certaine cohérence après imputation\n",
    "#on compare les distributions avant/après\n",
    "#on calcule aussi la proportion de données manquantes pour être sûr que la comparaison ait un sens.\n",
    "#il faut que le % de données manquantes ne soit ni trop faible ni trop élevé pour pouvoir comparer\n",
    "#on peut faire une \"évaluation\" visuelle de notre imputation sur cette variable choisie\n",
    "plt.hist([x, y], label=['Missing data', 'Imputed data'] , color = [\"plum\",\"peru\"])\n",
    "plt.legend(loc='upper right')\n",
    "plt.show()"
   ]
  },
  {
   "cell_type": "code",
   "execution_count": 196,
   "metadata": {
    "scrolled": true
   },
   "outputs": [
    {
     "name": "stdout",
     "output_type": "stream",
     "text": [
      "Iteration: 0\n",
      "Iteration: 1\n",
      "Iteration: 2\n",
      "Iteration: 3\n",
      "Iteration: 4\n",
      "Iteration: 5\n",
      "Iteration: 6\n",
      "Iteration: 0\n",
      "Iteration: 1\n",
      "Iteration: 2\n",
      "Iteration: 3\n",
      "Iteration: 4\n"
     ]
    }
   ],
   "source": [
    "#Dapp_cat = Dapp_cat.drop([\"V2\"] , axis = 1) ; Dtest_cat = Dtest_cat.drop([\"V2\"] , axis = 1)\n",
    "cat_cols = [Dapp_cat.columns.get_loc(col) for col in Dapp_cat.select_dtypes(['category']).columns.tolist()]\n",
    "\n",
    "imputer = MissForest(random_state = 100)\n",
    "Dapp_cat_imputed = imputer.fit_transform(Dapp_cat , cat_vars = cat_cols)\n",
    "Dapp_cat_imputed = pd.DataFrame(list(map(np.ravel, (list(Dapp_cat_imputed)))))\n",
    "Dapp_cat_imputed.columns = [x for x in liste_categorical] #if(x!=\"V2\")\n",
    "Dapp_cat_imputed = Dapp_cat_imputed.apply(lambda x : x.astype(int).astype(str).astype(\"category\") , axis = 1)\n",
    "Dapp_cat_imputed.loc[: , \"V2\"] = Dapp_cat_imputed.loc[: , \"V2\"].astype(\"str\")\n",
    "Dapp_cat_imputed.loc[: , \"V2\"] = pd.Series(pd.Categorical(Dapp_cat_imputed.loc[: , \"V2\"], categories=label_V2))\n",
    "\n",
    "\n",
    "Dtest_cat_imputed = imputer.transform(Dtest_cat)\n",
    "Dtest_cat_imputed = pd.DataFrame(list(map(np.ravel, (list(Dtest_cat_imputed)))))\n",
    "Dtest_cat_imputed.columns = [x for x in liste_categorical] #if(x!=\"V2\")\n",
    "Dtest_cat_imputed = Dtest_cat_imputed.apply(lambda x : x.astype(int).astype(str).astype(\"category\") , axis = 1)\n",
    "Dtest_cat_imputed.loc[: , \"V9\"] = pd.Series(pd.Categorical(Dtest_cat_imputed.loc[: , \"V9\"], categories=[\"1\",\"2\",\"3\"]))\n",
    "Dtest_cat_imputed.loc[: , \"V2\"] = Dtest_cat_imputed.loc[: , \"V2\"].astype(\"str\")\n",
    "Dtest_cat_imputed.loc[: , \"V2\"] = pd.Series(pd.Categorical(Dtest_cat_imputed.loc[: , \"V2\"], categories=label_V2))\n",
    "#une modalité de V9 n'est pas présente dans la variable V9 des données de test : il faut rajouter une catégorie\n",
    "#pour la variable V9 des données de test"
   ]
  },
  {
   "cell_type": "code",
   "execution_count": 198,
   "metadata": {},
   "outputs": [
    {
     "data": {
      "text/plain": [
       "{'V0': 0.0033333333333332993,\n",
       " 'V1': 0.0,\n",
       " 'V6': 0.18666666666666665,\n",
       " 'V7': 0.22999999999999998,\n",
       " 'V8': 0.15666666666666662,\n",
       " 'V9': 0.10666666666666669,\n",
       " 'V10': 0.18333333333333335,\n",
       " 'V11': 0.1466666666666666,\n",
       " 'V12': 0.18666666666666665,\n",
       " 'V13': 0.3466666666666667,\n",
       " 'V14': 0.3533333333333334,\n",
       " 'V16': 0.33999999999999997,\n",
       " 'V17': 0.3933333333333333,\n",
       " 'V20': 0.55}"
      ]
     },
     "execution_count": 198,
     "metadata": {},
     "output_type": "execute_result"
    }
   ],
   "source": [
    "{lab : 1-(len(Dtest_cat[lab].dropna())/len(Dtest)) for lab in liste_categorical if(lab != \"V2\")} \n",
    "{lab : 1-(len(Dapp_cat[lab].dropna())/len(Dapp)) for lab in liste_categorical if(lab != \"V2\")}\n",
    "#les proportions de données manquantes pour chaque variable qualitative "
   ]
  },
  {
   "cell_type": "code",
   "execution_count": 203,
   "metadata": {},
   "outputs": [
    {
     "data": {
      "text/plain": [
       "<matplotlib.axes._subplots.AxesSubplot at 0x236a0f4d108>"
      ]
     },
     "execution_count": 203,
     "metadata": {},
     "output_type": "execute_result"
    },
    {
     "data": {
      "image/png": "[encoded data removed]",
      "text/plain": [
       "<Figure size 648x432 with 1 Axes>"
      ]
     },
     "metadata": {
      "image/png": {
       "height": 356,
       "width": 544
      }
     },
     "output_type": "display_data"
    }
   ],
   "source": [
    "Dapp_cat_imputed.V14.value_counts().sort_index().plot(kind = \"bar\")\n",
    "#en pratique, il est nécessaire de vérifier la distribution des variables avant\\après imputation\n",
    "#on trace donc des barplot pour avoir une idée"
   ]
  },
  {
   "cell_type": "code",
   "execution_count": 204,
   "metadata": {},
   "outputs": [
    {
     "data": {
      "text/plain": [
       "<matplotlib.axes._subplots.AxesSubplot at 0x236a0ed4808>"
      ]
     },
     "execution_count": 204,
     "metadata": {},
     "output_type": "execute_result"
    },
    {
     "data": {
      "image/png": "[encoded data removed]",
      "text/plain": [
       "<Figure size 648x432 with 1 Axes>"
      ]
     },
     "metadata": {
      "image/png": {
       "height": 356,
       "width": 544
      }
     },
     "output_type": "display_data"
    }
   ],
   "source": [
    "Dapp_cat[\"V14\"].value_counts().sort_index().plot(kind = \"bar\")"
   ]
  },
  {
   "cell_type": "code",
   "execution_count": 205,
   "metadata": {},
   "outputs": [
    {
     "data": {
      "text/html": [
       "<div>\n",
       "<style scoped>\n",
       "    .dataframe tbody tr th:only-of-type {\n",
       "        vertical-align: middle;\n",
       "    }\n",
       "\n",
       "    .dataframe tbody tr th {\n",
       "        vertical-align: top;\n",
       "    }\n",
       "\n",
       "    .dataframe thead th {\n",
       "        text-align: right;\n",
       "    }\n",
       "</style>\n",
       "<table border=\"1\" class=\"dataframe\">\n",
       "  <thead>\n",
       "    <tr style=\"text-align: right;\">\n",
       "      <th></th>\n",
       "      <th>V0</th>\n",
       "      <th>V1</th>\n",
       "      <th>V2</th>\n",
       "      <th>V3</th>\n",
       "      <th>V4</th>\n",
       "      <th>V5</th>\n",
       "      <th>V6</th>\n",
       "      <th>V7</th>\n",
       "      <th>V8</th>\n",
       "      <th>V9</th>\n",
       "      <th>...</th>\n",
       "      <th>V12</th>\n",
       "      <th>V13</th>\n",
       "      <th>V14</th>\n",
       "      <th>V15</th>\n",
       "      <th>V16</th>\n",
       "      <th>V17</th>\n",
       "      <th>V18</th>\n",
       "      <th>V19</th>\n",
       "      <th>V20</th>\n",
       "      <th>V21</th>\n",
       "    </tr>\n",
       "  </thead>\n",
       "  <tbody>\n",
       "    <tr>\n",
       "      <td>0</td>\n",
       "      <td>2</td>\n",
       "      <td>1</td>\n",
       "      <td>528626</td>\n",
       "      <td>38.5</td>\n",
       "      <td>54.0</td>\n",
       "      <td>20.0</td>\n",
       "      <td>3</td>\n",
       "      <td>1</td>\n",
       "      <td>2</td>\n",
       "      <td>2</td>\n",
       "      <td>...</td>\n",
       "      <td>1</td>\n",
       "      <td>2</td>\n",
       "      <td>2</td>\n",
       "      <td>5.90</td>\n",
       "      <td>4</td>\n",
       "      <td>2</td>\n",
       "      <td>42.0</td>\n",
       "      <td>6.3</td>\n",
       "      <td>2</td>\n",
       "      <td>5.29</td>\n",
       "    </tr>\n",
       "    <tr>\n",
       "      <td>1</td>\n",
       "      <td>2</td>\n",
       "      <td>1</td>\n",
       "      <td>527950</td>\n",
       "      <td>37.6</td>\n",
       "      <td>48.0</td>\n",
       "      <td>36.0</td>\n",
       "      <td>1</td>\n",
       "      <td>1</td>\n",
       "      <td>1</td>\n",
       "      <td>1</td>\n",
       "      <td>...</td>\n",
       "      <td>2</td>\n",
       "      <td>2</td>\n",
       "      <td>1</td>\n",
       "      <td>5.46</td>\n",
       "      <td>3</td>\n",
       "      <td>5</td>\n",
       "      <td>44.0</td>\n",
       "      <td>6.3</td>\n",
       "      <td>1</td>\n",
       "      <td>5.00</td>\n",
       "    </tr>\n",
       "    <tr>\n",
       "      <td>2</td>\n",
       "      <td>1</td>\n",
       "      <td>1</td>\n",
       "      <td>535263</td>\n",
       "      <td>37.7</td>\n",
       "      <td>44.0</td>\n",
       "      <td>28.0</td>\n",
       "      <td>3</td>\n",
       "      <td>4</td>\n",
       "      <td>3</td>\n",
       "      <td>2</td>\n",
       "      <td>...</td>\n",
       "      <td>4</td>\n",
       "      <td>1</td>\n",
       "      <td>1</td>\n",
       "      <td>2.18</td>\n",
       "      <td>3</td>\n",
       "      <td>5</td>\n",
       "      <td>45.0</td>\n",
       "      <td>70.0</td>\n",
       "      <td>3</td>\n",
       "      <td>2.00</td>\n",
       "    </tr>\n",
       "    <tr>\n",
       "      <td>3</td>\n",
       "      <td>1</td>\n",
       "      <td>1</td>\n",
       "      <td>534523</td>\n",
       "      <td>37.0</td>\n",
       "      <td>56.0</td>\n",
       "      <td>24.0</td>\n",
       "      <td>3</td>\n",
       "      <td>1</td>\n",
       "      <td>4</td>\n",
       "      <td>2</td>\n",
       "      <td>...</td>\n",
       "      <td>3</td>\n",
       "      <td>1</td>\n",
       "      <td>1</td>\n",
       "      <td>1.63</td>\n",
       "      <td>4</td>\n",
       "      <td>5</td>\n",
       "      <td>35.0</td>\n",
       "      <td>61.0</td>\n",
       "      <td>3</td>\n",
       "      <td>2.00</td>\n",
       "    </tr>\n",
       "    <tr>\n",
       "      <td>...</td>\n",
       "      <td>...</td>\n",
       "      <td>...</td>\n",
       "      <td>...</td>\n",
       "      <td>...</td>\n",
       "      <td>...</td>\n",
       "      <td>...</td>\n",
       "      <td>...</td>\n",
       "      <td>...</td>\n",
       "      <td>...</td>\n",
       "      <td>...</td>\n",
       "      <td>...</td>\n",
       "      <td>...</td>\n",
       "      <td>...</td>\n",
       "      <td>...</td>\n",
       "      <td>...</td>\n",
       "      <td>...</td>\n",
       "      <td>...</td>\n",
       "      <td>...</td>\n",
       "      <td>...</td>\n",
       "      <td>...</td>\n",
       "      <td>...</td>\n",
       "    </tr>\n",
       "    <tr>\n",
       "      <td>64</td>\n",
       "      <td>2</td>\n",
       "      <td>1</td>\n",
       "      <td>528452</td>\n",
       "      <td>37.8</td>\n",
       "      <td>42.0</td>\n",
       "      <td>40.0</td>\n",
       "      <td>1</td>\n",
       "      <td>1</td>\n",
       "      <td>1</td>\n",
       "      <td>1</td>\n",
       "      <td>...</td>\n",
       "      <td>1</td>\n",
       "      <td>2</td>\n",
       "      <td>1</td>\n",
       "      <td>7.10</td>\n",
       "      <td>3</td>\n",
       "      <td>3</td>\n",
       "      <td>36.0</td>\n",
       "      <td>6.2</td>\n",
       "      <td>1</td>\n",
       "      <td>3.47</td>\n",
       "    </tr>\n",
       "    <tr>\n",
       "      <td>65</td>\n",
       "      <td>1</td>\n",
       "      <td>1</td>\n",
       "      <td>534783</td>\n",
       "      <td>38.0</td>\n",
       "      <td>60.0</td>\n",
       "      <td>12.0</td>\n",
       "      <td>1</td>\n",
       "      <td>1</td>\n",
       "      <td>2</td>\n",
       "      <td>1</td>\n",
       "      <td>...</td>\n",
       "      <td>1</td>\n",
       "      <td>1</td>\n",
       "      <td>1</td>\n",
       "      <td>2.04</td>\n",
       "      <td>1</td>\n",
       "      <td>4</td>\n",
       "      <td>44.0</td>\n",
       "      <td>65.0</td>\n",
       "      <td>3</td>\n",
       "      <td>2.00</td>\n",
       "    </tr>\n",
       "    <tr>\n",
       "      <td>66</td>\n",
       "      <td>2</td>\n",
       "      <td>1</td>\n",
       "      <td>528926</td>\n",
       "      <td>38.0</td>\n",
       "      <td>42.0</td>\n",
       "      <td>12.0</td>\n",
       "      <td>3</td>\n",
       "      <td>1</td>\n",
       "      <td>3</td>\n",
       "      <td>1</td>\n",
       "      <td>...</td>\n",
       "      <td>1</td>\n",
       "      <td>2</td>\n",
       "      <td>1</td>\n",
       "      <td>6.22</td>\n",
       "      <td>4</td>\n",
       "      <td>1</td>\n",
       "      <td>37.0</td>\n",
       "      <td>5.8</td>\n",
       "      <td>2</td>\n",
       "      <td>3.15</td>\n",
       "    </tr>\n",
       "    <tr>\n",
       "      <td>67</td>\n",
       "      <td>2</td>\n",
       "      <td>1</td>\n",
       "      <td>530670</td>\n",
       "      <td>37.6</td>\n",
       "      <td>88.0</td>\n",
       "      <td>36.0</td>\n",
       "      <td>3</td>\n",
       "      <td>1</td>\n",
       "      <td>1</td>\n",
       "      <td>1</td>\n",
       "      <td>...</td>\n",
       "      <td>2</td>\n",
       "      <td>1</td>\n",
       "      <td>3</td>\n",
       "      <td>1.50</td>\n",
       "      <td>4</td>\n",
       "      <td>4</td>\n",
       "      <td>44.0</td>\n",
       "      <td>6.0</td>\n",
       "      <td>2</td>\n",
       "      <td>11.34</td>\n",
       "    </tr>\n",
       "  </tbody>\n",
       "</table>\n",
       "<p>68 rows × 22 columns</p>\n",
       "</div>"
      ],
      "text/plain": [
       "   V0 V1      V2    V3    V4    V5 V6 V7 V8 V9  ... V12 V13 V14   V15 V16  \\\n",
       "0   2  1  528626  38.5  54.0  20.0  3  1  2  2  ...   1   2   2  5.90   4   \n",
       "1   2  1  527950  37.6  48.0  36.0  1  1  1  1  ...   2   2   1  5.46   3   \n",
       "2   1  1  535263  37.7  44.0  28.0  3  4  3  2  ...   4   1   1  2.18   3   \n",
       "3   1  1  534523  37.0  56.0  24.0  3  1  4  2  ...   3   1   1  1.63   4   \n",
       ".. .. ..     ...   ...   ...   ... .. .. .. ..  ...  ..  ..  ..   ...  ..   \n",
       "64  2  1  528452  37.8  42.0  40.0  1  1  1  1  ...   1   2   1  7.10   3   \n",
       "65  1  1  534783  38.0  60.0  12.0  1  1  2  1  ...   1   1   1  2.04   1   \n",
       "66  2  1  528926  38.0  42.0  12.0  3  1  3  1  ...   1   2   1  6.22   4   \n",
       "67  2  1  530670  37.6  88.0  36.0  3  1  1  1  ...   2   1   3  1.50   4   \n",
       "\n",
       "    V17   V18   V19  V20    V21  \n",
       "0     2  42.0   6.3    2   5.29  \n",
       "1     5  44.0   6.3    1   5.00  \n",
       "2     5  45.0  70.0    3   2.00  \n",
       "3     5  35.0  61.0    3   2.00  \n",
       "..  ...   ...   ...  ...    ...  \n",
       "64    3  36.0   6.2    1   3.47  \n",
       "65    4  44.0  65.0    3   2.00  \n",
       "66    1  37.0   5.8    2   3.15  \n",
       "67    4  44.0   6.0    2  11.34  \n",
       "\n",
       "[68 rows x 22 columns]"
      ]
     },
     "execution_count": 205,
     "metadata": {},
     "output_type": "execute_result"
    }
   ],
   "source": [
    "Dapp_imputed = pd.concat([Dapp_num_imputed.reset_index(drop=True), Dapp_cat_imputed], axis=1)\n",
    "Dapp_imputed.columns = [int(x[1:]) for x in Dapp_imputed.columns]\n",
    "Dapp_imputed = Dapp_imputed.sort_index(axis = 1)\n",
    "Dapp_imputed.columns = [\"V\"+str(x) for x in Dapp_imputed.columns]\n",
    "\n",
    "Dtest_imputed = pd.concat([Dtest_num_imputed.reset_index(drop=True), Dtest_cat_imputed], axis=1)\n",
    "Dtest_imputed.columns = [int(x[1:]) for x in Dtest_imputed.columns]\n",
    "Dtest_imputed = Dtest_imputed.sort_index(axis = 1)\n",
    "Dtest_imputed.columns = [\"V\"+str(x) for x in Dtest_imputed.columns]\n",
    "Dtest_imputed"
   ]
  },
  {
   "cell_type": "code",
   "execution_count": 208,
   "metadata": {},
   "outputs": [
    {
     "data": {
      "text/html": [
       "<div>\n",
       "<style scoped>\n",
       "    .dataframe tbody tr th:only-of-type {\n",
       "        vertical-align: middle;\n",
       "    }\n",
       "\n",
       "    .dataframe tbody tr th {\n",
       "        vertical-align: top;\n",
       "    }\n",
       "\n",
       "    .dataframe thead th {\n",
       "        text-align: right;\n",
       "    }\n",
       "</style>\n",
       "<table border=\"1\" class=\"dataframe\">\n",
       "  <thead>\n",
       "    <tr style=\"text-align: right;\">\n",
       "      <th></th>\n",
       "      <th>V0</th>\n",
       "      <th>V3</th>\n",
       "      <th>V4</th>\n",
       "      <th>V5</th>\n",
       "      <th>V15</th>\n",
       "      <th>V18</th>\n",
       "      <th>V19</th>\n",
       "      <th>V21</th>\n",
       "      <th>V1_9</th>\n",
       "      <th>V2_530439</th>\n",
       "      <th>...</th>\n",
       "      <th>V14_3</th>\n",
       "      <th>V16_2</th>\n",
       "      <th>V16_3</th>\n",
       "      <th>V16_4</th>\n",
       "      <th>V17_2</th>\n",
       "      <th>V17_3</th>\n",
       "      <th>V17_4</th>\n",
       "      <th>V17_5</th>\n",
       "      <th>V20_2</th>\n",
       "      <th>V20_3</th>\n",
       "    </tr>\n",
       "  </thead>\n",
       "  <tbody>\n",
       "    <tr>\n",
       "      <td>0</td>\n",
       "      <td>0</td>\n",
       "      <td>0.502367</td>\n",
       "      <td>-0.218726</td>\n",
       "      <td>-0.165386</td>\n",
       "      <td>0.574935</td>\n",
       "      <td>-0.130550</td>\n",
       "      <td>-0.620724</td>\n",
       "      <td>0.246307</td>\n",
       "      <td>0</td>\n",
       "      <td>0</td>\n",
       "      <td>...</td>\n",
       "      <td>0</td>\n",
       "      <td>0</td>\n",
       "      <td>1</td>\n",
       "      <td>0</td>\n",
       "      <td>0</td>\n",
       "      <td>0</td>\n",
       "      <td>0</td>\n",
       "      <td>1</td>\n",
       "      <td>0</td>\n",
       "      <td>1</td>\n",
       "    </tr>\n",
       "    <tr>\n",
       "      <td>1</td>\n",
       "      <td>1</td>\n",
       "      <td>1.565738</td>\n",
       "      <td>0.573747</td>\n",
       "      <td>-0.661875</td>\n",
       "      <td>-1.802181</td>\n",
       "      <td>0.372131</td>\n",
       "      <td>2.336519</td>\n",
       "      <td>-0.775276</td>\n",
       "      <td>0</td>\n",
       "      <td>0</td>\n",
       "      <td>...</td>\n",
       "      <td>0</td>\n",
       "      <td>0</td>\n",
       "      <td>0</td>\n",
       "      <td>1</td>\n",
       "      <td>1</td>\n",
       "      <td>0</td>\n",
       "      <td>0</td>\n",
       "      <td>0</td>\n",
       "      <td>1</td>\n",
       "      <td>0</td>\n",
       "    </tr>\n",
       "    <tr>\n",
       "      <td>2</td>\n",
       "      <td>0</td>\n",
       "      <td>0.198547</td>\n",
       "      <td>-1.155285</td>\n",
       "      <td>-0.413631</td>\n",
       "      <td>0.708857</td>\n",
       "      <td>-1.336984</td>\n",
       "      <td>-0.686354</td>\n",
       "      <td>0.103586</td>\n",
       "      <td>0</td>\n",
       "      <td>0</td>\n",
       "      <td>...</td>\n",
       "      <td>0</td>\n",
       "      <td>0</td>\n",
       "      <td>0</td>\n",
       "      <td>0</td>\n",
       "      <td>0</td>\n",
       "      <td>0</td>\n",
       "      <td>0</td>\n",
       "      <td>0</td>\n",
       "      <td>1</td>\n",
       "      <td>0</td>\n",
       "    </tr>\n",
       "    <tr>\n",
       "      <td>3</td>\n",
       "      <td>1</td>\n",
       "      <td>1.413827</td>\n",
       "      <td>3.311381</td>\n",
       "      <td>3.310032</td>\n",
       "      <td>0.279190</td>\n",
       "      <td>0.171059</td>\n",
       "      <td>-0.667051</td>\n",
       "      <td>1.703565</td>\n",
       "      <td>1</td>\n",
       "      <td>0</td>\n",
       "      <td>...</td>\n",
       "      <td>0</td>\n",
       "      <td>0</td>\n",
       "      <td>1</td>\n",
       "      <td>0</td>\n",
       "      <td>0</td>\n",
       "      <td>0</td>\n",
       "      <td>0</td>\n",
       "      <td>1</td>\n",
       "      <td>0</td>\n",
       "      <td>1</td>\n",
       "    </tr>\n",
       "    <tr>\n",
       "      <td>...</td>\n",
       "      <td>...</td>\n",
       "      <td>...</td>\n",
       "      <td>...</td>\n",
       "      <td>...</td>\n",
       "      <td>...</td>\n",
       "      <td>...</td>\n",
       "      <td>...</td>\n",
       "      <td>...</td>\n",
       "      <td>...</td>\n",
       "      <td>...</td>\n",
       "      <td>...</td>\n",
       "      <td>...</td>\n",
       "      <td>...</td>\n",
       "      <td>...</td>\n",
       "      <td>...</td>\n",
       "      <td>...</td>\n",
       "      <td>...</td>\n",
       "      <td>...</td>\n",
       "      <td>...</td>\n",
       "      <td>...</td>\n",
       "      <td>...</td>\n",
       "    </tr>\n",
       "    <tr>\n",
       "      <td>296</td>\n",
       "      <td>0</td>\n",
       "      <td>-1.472465</td>\n",
       "      <td>-0.002597</td>\n",
       "      <td>-0.413631</td>\n",
       "      <td>-0.250918</td>\n",
       "      <td>-0.231086</td>\n",
       "      <td>-0.040471</td>\n",
       "      <td>0.201237</td>\n",
       "      <td>0</td>\n",
       "      <td>0</td>\n",
       "      <td>...</td>\n",
       "      <td>0</td>\n",
       "      <td>0</td>\n",
       "      <td>0</td>\n",
       "      <td>1</td>\n",
       "      <td>0</td>\n",
       "      <td>0</td>\n",
       "      <td>1</td>\n",
       "      <td>0</td>\n",
       "      <td>0</td>\n",
       "      <td>1</td>\n",
       "    </tr>\n",
       "    <tr>\n",
       "      <td>297</td>\n",
       "      <td>1</td>\n",
       "      <td>-1.016734</td>\n",
       "      <td>-0.002597</td>\n",
       "      <td>-0.041264</td>\n",
       "      <td>0.597255</td>\n",
       "      <td>1.377493</td>\n",
       "      <td>-0.682494</td>\n",
       "      <td>0.366493</td>\n",
       "      <td>0</td>\n",
       "      <td>0</td>\n",
       "      <td>...</td>\n",
       "      <td>0</td>\n",
       "      <td>0</td>\n",
       "      <td>1</td>\n",
       "      <td>0</td>\n",
       "      <td>0</td>\n",
       "      <td>0</td>\n",
       "      <td>0</td>\n",
       "      <td>1</td>\n",
       "      <td>0</td>\n",
       "      <td>1</td>\n",
       "    </tr>\n",
       "    <tr>\n",
       "      <td>298</td>\n",
       "      <td>1</td>\n",
       "      <td>-2.535836</td>\n",
       "      <td>1.006005</td>\n",
       "      <td>-0.413631</td>\n",
       "      <td>-0.474121</td>\n",
       "      <td>0.372131</td>\n",
       "      <td>-0.713379</td>\n",
       "      <td>0.276353</td>\n",
       "      <td>0</td>\n",
       "      <td>0</td>\n",
       "      <td>...</td>\n",
       "      <td>0</td>\n",
       "      <td>0</td>\n",
       "      <td>0</td>\n",
       "      <td>1</td>\n",
       "      <td>0</td>\n",
       "      <td>0</td>\n",
       "      <td>1</td>\n",
       "      <td>0</td>\n",
       "      <td>0</td>\n",
       "      <td>1</td>\n",
       "    </tr>\n",
       "    <tr>\n",
       "      <td>299</td>\n",
       "      <td>1</td>\n",
       "      <td>-1.472465</td>\n",
       "      <td>-1.155285</td>\n",
       "      <td>-0.661875</td>\n",
       "      <td>-1.601298</td>\n",
       "      <td>-1.035375</td>\n",
       "      <td>1.448574</td>\n",
       "      <td>-1.526440</td>\n",
       "      <td>0</td>\n",
       "      <td>0</td>\n",
       "      <td>...</td>\n",
       "      <td>0</td>\n",
       "      <td>0</td>\n",
       "      <td>0</td>\n",
       "      <td>1</td>\n",
       "      <td>0</td>\n",
       "      <td>0</td>\n",
       "      <td>0</td>\n",
       "      <td>0</td>\n",
       "      <td>0</td>\n",
       "      <td>0</td>\n",
       "    </tr>\n",
       "  </tbody>\n",
       "</table>\n",
       "<p>300 rows × 390 columns</p>\n",
       "</div>"
      ],
      "text/plain": [
       "     V0        V3        V4        V5       V15       V18       V19       V21  \\\n",
       "0     0  0.502367 -0.218726 -0.165386  0.574935 -0.130550 -0.620724  0.246307   \n",
       "1     1  1.565738  0.573747 -0.661875 -1.802181  0.372131  2.336519 -0.775276   \n",
       "2     0  0.198547 -1.155285 -0.413631  0.708857 -1.336984 -0.686354  0.103586   \n",
       "3     1  1.413827  3.311381  3.310032  0.279190  0.171059 -0.667051  1.703565   \n",
       "..   ..       ...       ...       ...       ...       ...       ...       ...   \n",
       "296   0 -1.472465 -0.002597 -0.413631 -0.250918 -0.231086 -0.040471  0.201237   \n",
       "297   1 -1.016734 -0.002597 -0.041264  0.597255  1.377493 -0.682494  0.366493   \n",
       "298   1 -2.535836  1.006005 -0.413631 -0.474121  0.372131 -0.713379  0.276353   \n",
       "299   1 -1.472465 -1.155285 -0.661875 -1.601298 -1.035375  1.448574 -1.526440   \n",
       "\n",
       "     V1_9  V2_530439  ...  V14_3  V16_2  V16_3  V16_4  V17_2  V17_3  V17_4  \\\n",
       "0       0          0  ...      0      0      1      0      0      0      0   \n",
       "1       0          0  ...      0      0      0      1      1      0      0   \n",
       "2       0          0  ...      0      0      0      0      0      0      0   \n",
       "3       1          0  ...      0      0      1      0      0      0      0   \n",
       "..    ...        ...  ...    ...    ...    ...    ...    ...    ...    ...   \n",
       "296     0          0  ...      0      0      0      1      0      0      1   \n",
       "297     0          0  ...      0      0      1      0      0      0      0   \n",
       "298     0          0  ...      0      0      0      1      0      0      1   \n",
       "299     0          0  ...      0      0      0      1      0      0      0   \n",
       "\n",
       "     V17_5  V20_2  V20_3  \n",
       "0        1      0      1  \n",
       "1        0      1      0  \n",
       "2        0      1      0  \n",
       "3        1      0      1  \n",
       "..     ...    ...    ...  \n",
       "296      0      0      1  \n",
       "297      1      0      1  \n",
       "298      0      0      1  \n",
       "299      0      0      0  \n",
       "\n",
       "[300 rows x 390 columns]"
      ]
     },
     "execution_count": 208,
     "metadata": {},
     "output_type": "execute_result"
    }
   ],
   "source": [
    "Dapp_imputed"
   ]
  },
  {
   "cell_type": "code",
   "execution_count": 286,
   "metadata": {},
   "outputs": [],
   "source": [
    "#Dtest_imputed.to_pickle(\"Dtest_imputed.pkl\")\n",
    "#Dapp_imputed.to_pickle(\"Dapp_imputed.pkl\")"
   ]
  },
  {
   "cell_type": "code",
   "execution_count": 287,
   "metadata": {
    "scrolled": true
   },
   "outputs": [],
   "source": [
    "#Dapp_imputed = pd.read_pickle(\"Dapp_imputed.pkl\")\n",
    "#Dtest_imputed = pd.read_pickle(\"Dtest_imputed.pkl\")"
   ]
  },
  {
   "cell_type": "code",
   "execution_count": 206,
   "metadata": {},
   "outputs": [],
   "source": [
    "liste_cat_bis = [x for x in liste_categorical if(x not in [\"V0\"] )]"
   ]
  },
  {
   "cell_type": "code",
   "execution_count": 207,
   "metadata": {},
   "outputs": [
    {
     "data": {
      "text/html": [
       "<div>\n",
       "<style scoped>\n",
       "    .dataframe tbody tr th:only-of-type {\n",
       "        vertical-align: middle;\n",
       "    }\n",
       "\n",
       "    .dataframe tbody tr th {\n",
       "        vertical-align: top;\n",
       "    }\n",
       "\n",
       "    .dataframe thead th {\n",
       "        text-align: right;\n",
       "    }\n",
       "</style>\n",
       "<table border=\"1\" class=\"dataframe\">\n",
       "  <thead>\n",
       "    <tr style=\"text-align: right;\">\n",
       "      <th></th>\n",
       "      <th>V0</th>\n",
       "      <th>V3</th>\n",
       "      <th>V4</th>\n",
       "      <th>V5</th>\n",
       "      <th>V15</th>\n",
       "      <th>V18</th>\n",
       "      <th>V19</th>\n",
       "      <th>V21</th>\n",
       "      <th>V1_9</th>\n",
       "      <th>V2_530439</th>\n",
       "      <th>...</th>\n",
       "      <th>V14_3</th>\n",
       "      <th>V16_2</th>\n",
       "      <th>V16_3</th>\n",
       "      <th>V16_4</th>\n",
       "      <th>V17_2</th>\n",
       "      <th>V17_3</th>\n",
       "      <th>V17_4</th>\n",
       "      <th>V17_5</th>\n",
       "      <th>V20_2</th>\n",
       "      <th>V20_3</th>\n",
       "    </tr>\n",
       "  </thead>\n",
       "  <tbody>\n",
       "    <tr>\n",
       "      <td>0</td>\n",
       "      <td>0</td>\n",
       "      <td>0.502367</td>\n",
       "      <td>-0.650984</td>\n",
       "      <td>-0.661875</td>\n",
       "      <td>0.781398</td>\n",
       "      <td>-0.432158</td>\n",
       "      <td>-0.701797</td>\n",
       "      <td>1.696053</td>\n",
       "      <td>0</td>\n",
       "      <td>0</td>\n",
       "      <td>...</td>\n",
       "      <td>0</td>\n",
       "      <td>0</td>\n",
       "      <td>0</td>\n",
       "      <td>1</td>\n",
       "      <td>1</td>\n",
       "      <td>0</td>\n",
       "      <td>0</td>\n",
       "      <td>0</td>\n",
       "      <td>1</td>\n",
       "      <td>0</td>\n",
       "    </tr>\n",
       "    <tr>\n",
       "      <td>1</td>\n",
       "      <td>0</td>\n",
       "      <td>-0.864824</td>\n",
       "      <td>-0.867113</td>\n",
       "      <td>0.331102</td>\n",
       "      <td>0.535874</td>\n",
       "      <td>-0.231086</td>\n",
       "      <td>-0.701797</td>\n",
       "      <td>1.478216</td>\n",
       "      <td>0</td>\n",
       "      <td>0</td>\n",
       "      <td>...</td>\n",
       "      <td>0</td>\n",
       "      <td>0</td>\n",
       "      <td>1</td>\n",
       "      <td>0</td>\n",
       "      <td>0</td>\n",
       "      <td>0</td>\n",
       "      <td>0</td>\n",
       "      <td>1</td>\n",
       "      <td>0</td>\n",
       "      <td>0</td>\n",
       "    </tr>\n",
       "    <tr>\n",
       "      <td>2</td>\n",
       "      <td>1</td>\n",
       "      <td>-0.712914</td>\n",
       "      <td>-1.011199</td>\n",
       "      <td>-0.165386</td>\n",
       "      <td>-1.294393</td>\n",
       "      <td>-0.130550</td>\n",
       "      <td>1.757425</td>\n",
       "      <td>-0.775276</td>\n",
       "      <td>0</td>\n",
       "      <td>0</td>\n",
       "      <td>...</td>\n",
       "      <td>0</td>\n",
       "      <td>0</td>\n",
       "      <td>1</td>\n",
       "      <td>0</td>\n",
       "      <td>0</td>\n",
       "      <td>0</td>\n",
       "      <td>0</td>\n",
       "      <td>1</td>\n",
       "      <td>0</td>\n",
       "      <td>1</td>\n",
       "    </tr>\n",
       "    <tr>\n",
       "      <td>3</td>\n",
       "      <td>1</td>\n",
       "      <td>-1.776285</td>\n",
       "      <td>-0.578941</td>\n",
       "      <td>-0.413631</td>\n",
       "      <td>-1.601298</td>\n",
       "      <td>-1.135912</td>\n",
       "      <td>1.409968</td>\n",
       "      <td>-0.775276</td>\n",
       "      <td>0</td>\n",
       "      <td>0</td>\n",
       "      <td>...</td>\n",
       "      <td>0</td>\n",
       "      <td>0</td>\n",
       "      <td>0</td>\n",
       "      <td>1</td>\n",
       "      <td>0</td>\n",
       "      <td>0</td>\n",
       "      <td>0</td>\n",
       "      <td>1</td>\n",
       "      <td>0</td>\n",
       "      <td>1</td>\n",
       "    </tr>\n",
       "    <tr>\n",
       "      <td>...</td>\n",
       "      <td>...</td>\n",
       "      <td>...</td>\n",
       "      <td>...</td>\n",
       "      <td>...</td>\n",
       "      <td>...</td>\n",
       "      <td>...</td>\n",
       "      <td>...</td>\n",
       "      <td>...</td>\n",
       "      <td>...</td>\n",
       "      <td>...</td>\n",
       "      <td>...</td>\n",
       "      <td>...</td>\n",
       "      <td>...</td>\n",
       "      <td>...</td>\n",
       "      <td>...</td>\n",
       "      <td>...</td>\n",
       "      <td>...</td>\n",
       "      <td>...</td>\n",
       "      <td>...</td>\n",
       "      <td>...</td>\n",
       "      <td>...</td>\n",
       "    </tr>\n",
       "    <tr>\n",
       "      <td>64</td>\n",
       "      <td>0</td>\n",
       "      <td>-0.561004</td>\n",
       "      <td>-1.083242</td>\n",
       "      <td>0.579346</td>\n",
       "      <td>1.451008</td>\n",
       "      <td>-1.035375</td>\n",
       "      <td>-0.705658</td>\n",
       "      <td>0.328935</td>\n",
       "      <td>0</td>\n",
       "      <td>0</td>\n",
       "      <td>...</td>\n",
       "      <td>0</td>\n",
       "      <td>0</td>\n",
       "      <td>1</td>\n",
       "      <td>0</td>\n",
       "      <td>0</td>\n",
       "      <td>1</td>\n",
       "      <td>0</td>\n",
       "      <td>0</td>\n",
       "      <td>0</td>\n",
       "      <td>0</td>\n",
       "    </tr>\n",
       "    <tr>\n",
       "      <td>65</td>\n",
       "      <td>1</td>\n",
       "      <td>-0.257184</td>\n",
       "      <td>-0.434855</td>\n",
       "      <td>-1.158363</td>\n",
       "      <td>-1.372514</td>\n",
       "      <td>-0.231086</td>\n",
       "      <td>1.564393</td>\n",
       "      <td>-0.775276</td>\n",
       "      <td>0</td>\n",
       "      <td>0</td>\n",
       "      <td>...</td>\n",
       "      <td>0</td>\n",
       "      <td>0</td>\n",
       "      <td>0</td>\n",
       "      <td>0</td>\n",
       "      <td>0</td>\n",
       "      <td>0</td>\n",
       "      <td>1</td>\n",
       "      <td>0</td>\n",
       "      <td>0</td>\n",
       "      <td>1</td>\n",
       "    </tr>\n",
       "    <tr>\n",
       "      <td>66</td>\n",
       "      <td>0</td>\n",
       "      <td>-0.257184</td>\n",
       "      <td>-1.083242</td>\n",
       "      <td>-1.158363</td>\n",
       "      <td>0.959960</td>\n",
       "      <td>-0.934839</td>\n",
       "      <td>-0.721100</td>\n",
       "      <td>0.088562</td>\n",
       "      <td>0</td>\n",
       "      <td>0</td>\n",
       "      <td>...</td>\n",
       "      <td>0</td>\n",
       "      <td>0</td>\n",
       "      <td>0</td>\n",
       "      <td>1</td>\n",
       "      <td>0</td>\n",
       "      <td>0</td>\n",
       "      <td>0</td>\n",
       "      <td>0</td>\n",
       "      <td>1</td>\n",
       "      <td>0</td>\n",
       "    </tr>\n",
       "    <tr>\n",
       "      <td>67</td>\n",
       "      <td>0</td>\n",
       "      <td>-0.864824</td>\n",
       "      <td>0.573747</td>\n",
       "      <td>0.331102</td>\n",
       "      <td>-1.673839</td>\n",
       "      <td>-0.231086</td>\n",
       "      <td>-0.713379</td>\n",
       "      <td>6.240595</td>\n",
       "      <td>0</td>\n",
       "      <td>0</td>\n",
       "      <td>...</td>\n",
       "      <td>1</td>\n",
       "      <td>0</td>\n",
       "      <td>0</td>\n",
       "      <td>1</td>\n",
       "      <td>0</td>\n",
       "      <td>0</td>\n",
       "      <td>1</td>\n",
       "      <td>0</td>\n",
       "      <td>1</td>\n",
       "      <td>0</td>\n",
       "    </tr>\n",
       "  </tbody>\n",
       "</table>\n",
       "<p>68 rows × 390 columns</p>\n",
       "</div>"
      ],
      "text/plain": [
       "    V0        V3        V4        V5       V15       V18       V19       V21  \\\n",
       "0    0  0.502367 -0.650984 -0.661875  0.781398 -0.432158 -0.701797  1.696053   \n",
       "1    0 -0.864824 -0.867113  0.331102  0.535874 -0.231086 -0.701797  1.478216   \n",
       "2    1 -0.712914 -1.011199 -0.165386 -1.294393 -0.130550  1.757425 -0.775276   \n",
       "3    1 -1.776285 -0.578941 -0.413631 -1.601298 -1.135912  1.409968 -0.775276   \n",
       "..  ..       ...       ...       ...       ...       ...       ...       ...   \n",
       "64   0 -0.561004 -1.083242  0.579346  1.451008 -1.035375 -0.705658  0.328935   \n",
       "65   1 -0.257184 -0.434855 -1.158363 -1.372514 -0.231086  1.564393 -0.775276   \n",
       "66   0 -0.257184 -1.083242 -1.158363  0.959960 -0.934839 -0.721100  0.088562   \n",
       "67   0 -0.864824  0.573747  0.331102 -1.673839 -0.231086 -0.713379  6.240595   \n",
       "\n",
       "    V1_9  V2_530439  ...  V14_3  V16_2  V16_3  V16_4  V17_2  V17_3  V17_4  \\\n",
       "0      0          0  ...      0      0      0      1      1      0      0   \n",
       "1      0          0  ...      0      0      1      0      0      0      0   \n",
       "2      0          0  ...      0      0      1      0      0      0      0   \n",
       "3      0          0  ...      0      0      0      1      0      0      0   \n",
       "..   ...        ...  ...    ...    ...    ...    ...    ...    ...    ...   \n",
       "64     0          0  ...      0      0      1      0      0      1      0   \n",
       "65     0          0  ...      0      0      0      0      0      0      1   \n",
       "66     0          0  ...      0      0      0      1      0      0      0   \n",
       "67     0          0  ...      1      0      0      1      0      0      1   \n",
       "\n",
       "    V17_5  V20_2  V20_3  \n",
       "0       0      1      0  \n",
       "1       1      0      0  \n",
       "2       1      0      1  \n",
       "3       1      0      1  \n",
       "..    ...    ...    ...  \n",
       "64      0      0      0  \n",
       "65      0      0      1  \n",
       "66      0      1      0  \n",
       "67      0      1      0  \n",
       "\n",
       "[68 rows x 390 columns]"
      ]
     },
     "execution_count": 207,
     "metadata": {},
     "output_type": "execute_result"
    }
   ],
   "source": [
    "scaler = StandardScaler()\n",
    "Dapp_imputed[liste_numerical] = scaler.fit_transform(Dapp_imputed[liste_numerical])\n",
    "Dapp_imputed[\"V0\"] = pd.Series([1 if(x==\"1\") else 0 for x in Dapp_imputed[\"V0\"]])\n",
    "Dapp_imputed = Dapp_imputed.astype({\"V0\" : \"int32\"})\n",
    "Dapp_imputed = pd.get_dummies(Dapp_imputed , columns = liste_cat_bis , drop_first = True)\n",
    "\n",
    "Dtest_imputed[liste_numerical] = scaler.transform(Dtest_imputed[liste_numerical])\n",
    "Dtest_imputed[\"V0\"] = pd.Series([1 if(x==\"1\") else 0 for x in Dtest_imputed[\"V0\"]])\n",
    "Dtest_imputed = Dtest_imputed.astype({\"V0\" : \"int32\"})\n",
    "Dtest_imputed = pd.get_dummies(Dtest_imputed , columns = liste_cat_bis , drop_first = True)\n",
    "\n",
    "Dapp_imputed\n",
    "Dtest_imputed"
   ]
  },
  {
   "cell_type": "code",
   "execution_count": 209,
   "metadata": {},
   "outputs": [
    {
     "data": {
      "text/html": [
       "<div>\n",
       "<style scoped>\n",
       "    .dataframe tbody tr th:only-of-type {\n",
       "        vertical-align: middle;\n",
       "    }\n",
       "\n",
       "    .dataframe tbody tr th {\n",
       "        vertical-align: top;\n",
       "    }\n",
       "\n",
       "    .dataframe thead th {\n",
       "        text-align: right;\n",
       "    }\n",
       "</style>\n",
       "<table border=\"1\" class=\"dataframe\">\n",
       "  <thead>\n",
       "    <tr style=\"text-align: right;\">\n",
       "      <th></th>\n",
       "      <th>V0</th>\n",
       "      <th>V3</th>\n",
       "      <th>V4</th>\n",
       "      <th>V5</th>\n",
       "      <th>V15</th>\n",
       "      <th>V18</th>\n",
       "      <th>V19</th>\n",
       "      <th>V21</th>\n",
       "      <th>V1_9</th>\n",
       "      <th>V2_530439</th>\n",
       "      <th>...</th>\n",
       "      <th>V14_3</th>\n",
       "      <th>V16_2</th>\n",
       "      <th>V16_3</th>\n",
       "      <th>V16_4</th>\n",
       "      <th>V17_2</th>\n",
       "      <th>V17_3</th>\n",
       "      <th>V17_4</th>\n",
       "      <th>V17_5</th>\n",
       "      <th>V20_2</th>\n",
       "      <th>V20_3</th>\n",
       "    </tr>\n",
       "  </thead>\n",
       "  <tbody>\n",
       "    <tr>\n",
       "      <td>0</td>\n",
       "      <td>0</td>\n",
       "      <td>0.502367</td>\n",
       "      <td>-0.218726</td>\n",
       "      <td>-0.165386</td>\n",
       "      <td>0.574935</td>\n",
       "      <td>-0.130550</td>\n",
       "      <td>-0.620724</td>\n",
       "      <td>0.246307</td>\n",
       "      <td>0</td>\n",
       "      <td>0</td>\n",
       "      <td>...</td>\n",
       "      <td>0</td>\n",
       "      <td>0</td>\n",
       "      <td>1</td>\n",
       "      <td>0</td>\n",
       "      <td>0</td>\n",
       "      <td>0</td>\n",
       "      <td>0</td>\n",
       "      <td>1</td>\n",
       "      <td>0</td>\n",
       "      <td>1</td>\n",
       "    </tr>\n",
       "    <tr>\n",
       "      <td>1</td>\n",
       "      <td>1</td>\n",
       "      <td>1.565738</td>\n",
       "      <td>0.573747</td>\n",
       "      <td>-0.661875</td>\n",
       "      <td>-1.802181</td>\n",
       "      <td>0.372131</td>\n",
       "      <td>2.336519</td>\n",
       "      <td>-0.775276</td>\n",
       "      <td>0</td>\n",
       "      <td>0</td>\n",
       "      <td>...</td>\n",
       "      <td>0</td>\n",
       "      <td>0</td>\n",
       "      <td>0</td>\n",
       "      <td>1</td>\n",
       "      <td>1</td>\n",
       "      <td>0</td>\n",
       "      <td>0</td>\n",
       "      <td>0</td>\n",
       "      <td>1</td>\n",
       "      <td>0</td>\n",
       "    </tr>\n",
       "    <tr>\n",
       "      <td>2</td>\n",
       "      <td>0</td>\n",
       "      <td>0.198547</td>\n",
       "      <td>-1.155285</td>\n",
       "      <td>-0.413631</td>\n",
       "      <td>0.708857</td>\n",
       "      <td>-1.336984</td>\n",
       "      <td>-0.686354</td>\n",
       "      <td>0.103586</td>\n",
       "      <td>0</td>\n",
       "      <td>0</td>\n",
       "      <td>...</td>\n",
       "      <td>0</td>\n",
       "      <td>0</td>\n",
       "      <td>0</td>\n",
       "      <td>0</td>\n",
       "      <td>0</td>\n",
       "      <td>0</td>\n",
       "      <td>0</td>\n",
       "      <td>0</td>\n",
       "      <td>1</td>\n",
       "      <td>0</td>\n",
       "    </tr>\n",
       "    <tr>\n",
       "      <td>3</td>\n",
       "      <td>1</td>\n",
       "      <td>1.413827</td>\n",
       "      <td>3.311381</td>\n",
       "      <td>3.310032</td>\n",
       "      <td>0.279190</td>\n",
       "      <td>0.171059</td>\n",
       "      <td>-0.667051</td>\n",
       "      <td>1.703565</td>\n",
       "      <td>1</td>\n",
       "      <td>0</td>\n",
       "      <td>...</td>\n",
       "      <td>0</td>\n",
       "      <td>0</td>\n",
       "      <td>1</td>\n",
       "      <td>0</td>\n",
       "      <td>0</td>\n",
       "      <td>0</td>\n",
       "      <td>0</td>\n",
       "      <td>1</td>\n",
       "      <td>0</td>\n",
       "      <td>1</td>\n",
       "    </tr>\n",
       "    <tr>\n",
       "      <td>...</td>\n",
       "      <td>...</td>\n",
       "      <td>...</td>\n",
       "      <td>...</td>\n",
       "      <td>...</td>\n",
       "      <td>...</td>\n",
       "      <td>...</td>\n",
       "      <td>...</td>\n",
       "      <td>...</td>\n",
       "      <td>...</td>\n",
       "      <td>...</td>\n",
       "      <td>...</td>\n",
       "      <td>...</td>\n",
       "      <td>...</td>\n",
       "      <td>...</td>\n",
       "      <td>...</td>\n",
       "      <td>...</td>\n",
       "      <td>...</td>\n",
       "      <td>...</td>\n",
       "      <td>...</td>\n",
       "      <td>...</td>\n",
       "      <td>...</td>\n",
       "    </tr>\n",
       "    <tr>\n",
       "      <td>296</td>\n",
       "      <td>0</td>\n",
       "      <td>-1.472465</td>\n",
       "      <td>-0.002597</td>\n",
       "      <td>-0.413631</td>\n",
       "      <td>-0.250918</td>\n",
       "      <td>-0.231086</td>\n",
       "      <td>-0.040471</td>\n",
       "      <td>0.201237</td>\n",
       "      <td>0</td>\n",
       "      <td>0</td>\n",
       "      <td>...</td>\n",
       "      <td>0</td>\n",
       "      <td>0</td>\n",
       "      <td>0</td>\n",
       "      <td>1</td>\n",
       "      <td>0</td>\n",
       "      <td>0</td>\n",
       "      <td>1</td>\n",
       "      <td>0</td>\n",
       "      <td>0</td>\n",
       "      <td>1</td>\n",
       "    </tr>\n",
       "    <tr>\n",
       "      <td>297</td>\n",
       "      <td>1</td>\n",
       "      <td>-1.016734</td>\n",
       "      <td>-0.002597</td>\n",
       "      <td>-0.041264</td>\n",
       "      <td>0.597255</td>\n",
       "      <td>1.377493</td>\n",
       "      <td>-0.682494</td>\n",
       "      <td>0.366493</td>\n",
       "      <td>0</td>\n",
       "      <td>0</td>\n",
       "      <td>...</td>\n",
       "      <td>0</td>\n",
       "      <td>0</td>\n",
       "      <td>1</td>\n",
       "      <td>0</td>\n",
       "      <td>0</td>\n",
       "      <td>0</td>\n",
       "      <td>0</td>\n",
       "      <td>1</td>\n",
       "      <td>0</td>\n",
       "      <td>1</td>\n",
       "    </tr>\n",
       "    <tr>\n",
       "      <td>298</td>\n",
       "      <td>1</td>\n",
       "      <td>-2.535836</td>\n",
       "      <td>1.006005</td>\n",
       "      <td>-0.413631</td>\n",
       "      <td>-0.474121</td>\n",
       "      <td>0.372131</td>\n",
       "      <td>-0.713379</td>\n",
       "      <td>0.276353</td>\n",
       "      <td>0</td>\n",
       "      <td>0</td>\n",
       "      <td>...</td>\n",
       "      <td>0</td>\n",
       "      <td>0</td>\n",
       "      <td>0</td>\n",
       "      <td>1</td>\n",
       "      <td>0</td>\n",
       "      <td>0</td>\n",
       "      <td>1</td>\n",
       "      <td>0</td>\n",
       "      <td>0</td>\n",
       "      <td>1</td>\n",
       "    </tr>\n",
       "    <tr>\n",
       "      <td>299</td>\n",
       "      <td>1</td>\n",
       "      <td>-1.472465</td>\n",
       "      <td>-1.155285</td>\n",
       "      <td>-0.661875</td>\n",
       "      <td>-1.601298</td>\n",
       "      <td>-1.035375</td>\n",
       "      <td>1.448574</td>\n",
       "      <td>-1.526440</td>\n",
       "      <td>0</td>\n",
       "      <td>0</td>\n",
       "      <td>...</td>\n",
       "      <td>0</td>\n",
       "      <td>0</td>\n",
       "      <td>0</td>\n",
       "      <td>1</td>\n",
       "      <td>0</td>\n",
       "      <td>0</td>\n",
       "      <td>0</td>\n",
       "      <td>0</td>\n",
       "      <td>0</td>\n",
       "      <td>0</td>\n",
       "    </tr>\n",
       "  </tbody>\n",
       "</table>\n",
       "<p>300 rows × 390 columns</p>\n",
       "</div>"
      ],
      "text/plain": [
       "     V0        V3        V4        V5       V15       V18       V19       V21  \\\n",
       "0     0  0.502367 -0.218726 -0.165386  0.574935 -0.130550 -0.620724  0.246307   \n",
       "1     1  1.565738  0.573747 -0.661875 -1.802181  0.372131  2.336519 -0.775276   \n",
       "2     0  0.198547 -1.155285 -0.413631  0.708857 -1.336984 -0.686354  0.103586   \n",
       "3     1  1.413827  3.311381  3.310032  0.279190  0.171059 -0.667051  1.703565   \n",
       "..   ..       ...       ...       ...       ...       ...       ...       ...   \n",
       "296   0 -1.472465 -0.002597 -0.413631 -0.250918 -0.231086 -0.040471  0.201237   \n",
       "297   1 -1.016734 -0.002597 -0.041264  0.597255  1.377493 -0.682494  0.366493   \n",
       "298   1 -2.535836  1.006005 -0.413631 -0.474121  0.372131 -0.713379  0.276353   \n",
       "299   1 -1.472465 -1.155285 -0.661875 -1.601298 -1.035375  1.448574 -1.526440   \n",
       "\n",
       "     V1_9  V2_530439  ...  V14_3  V16_2  V16_3  V16_4  V17_2  V17_3  V17_4  \\\n",
       "0       0          0  ...      0      0      1      0      0      0      0   \n",
       "1       0          0  ...      0      0      0      1      1      0      0   \n",
       "2       0          0  ...      0      0      0      0      0      0      0   \n",
       "3       1          0  ...      0      0      1      0      0      0      0   \n",
       "..    ...        ...  ...    ...    ...    ...    ...    ...    ...    ...   \n",
       "296     0          0  ...      0      0      0      1      0      0      1   \n",
       "297     0          0  ...      0      0      1      0      0      0      0   \n",
       "298     0          0  ...      0      0      0      1      0      0      1   \n",
       "299     0          0  ...      0      0      0      1      0      0      0   \n",
       "\n",
       "     V17_5  V20_2  V20_3  \n",
       "0        1      0      1  \n",
       "1        0      1      0  \n",
       "2        0      1      0  \n",
       "3        1      0      1  \n",
       "..     ...    ...    ...  \n",
       "296      0      0      1  \n",
       "297      1      0      1  \n",
       "298      0      0      1  \n",
       "299      0      0      0  \n",
       "\n",
       "[300 rows x 390 columns]"
      ]
     },
     "execution_count": 209,
     "metadata": {},
     "output_type": "execute_result"
    }
   ],
   "source": [
    "Dapp_imputed"
   ]
  },
  {
   "cell_type": "code",
   "execution_count": 210,
   "metadata": {
    "scrolled": true
   },
   "outputs": [],
   "source": [
    "X_train = Dapp_imputed.drop([\"V0\"] , axis = 1) ; Y_train = Dapp_imputed[\"V0\"]\n",
    "X_test = Dtest_imputed.drop([\"V0\"] , axis = 1) ; Y_test = Dtest_imputed[\"V0\"]\n",
    "#Voici nos jeux de données d'entrainement ainsi que de tests"
   ]
  },
  {
   "cell_type": "code",
   "execution_count": 211,
   "metadata": {},
   "outputs": [
    {
     "data": {
      "text/plain": [
       "0.0"
      ]
     },
     "execution_count": 211,
     "metadata": {},
     "output_type": "execute_result"
    }
   ],
   "source": [
    "np.linalg.det(np.dot(np.transpose(X_train) , X_train)) #la matrice de design n'est pas de rang plein, rien ne nous garantit que\n",
    "#que l'on atteindra un minimum global en faisant une régression logistique\n",
    "#on décide de pénaliser celle-ci avec une pénalité de type ridge"
   ]
  },
  {
   "cell_type": "code",
   "execution_count": 212,
   "metadata": {},
   "outputs": [
    {
     "data": {
      "text/plain": [
       "0.8088235294117647"
      ]
     },
     "execution_count": 212,
     "metadata": {},
     "output_type": "execute_result"
    }
   ],
   "source": [
    "def param_selection_log(X, y,Cs):\n",
    "    logreg = LogisticRegression(penalty = \"l2\", solver = \"lbfgs\" , max_iter = 5000 , tol = 1e-6)\n",
    "    parameters = {'C':Cs}\n",
    "    clf = GridSearchCV(logreg, parameters, cv = KFold(n_splits = 300))\n",
    "    clf.fit(X_train, Y_train)\n",
    "    return clf.best_params_\n",
    "\n",
    "C_log = param_selection_log(X_train, Y_train , [.001 , 0.01 , 0.1 , 1 , 10 , 100])[\"C\"]\n",
    "\n",
    "logreg = LogisticRegression(penalty = \"l2\", solver = \"lbfgs\" , max_iter = 5000 , tol = 1e-6 , C = C_log)\n",
    "logreg.fit(X_train , Y_train)\n",
    "y_pred = logreg.predict(X_test)\n",
    "y_fit = logreg.predict(X_train)\n",
    "accuracy_score(y_pred, Y_test) #1 minute"
   ]
  },
  {
   "cell_type": "code",
   "execution_count": 213,
   "metadata": {},
   "outputs": [
    {
     "data": {
      "text/plain": [
       "1.0"
      ]
     },
     "execution_count": 213,
     "metadata": {},
     "output_type": "execute_result"
    }
   ],
   "source": [
    "accuracy_score(y_fit, Y_train) #on dipose d'une erreur d'apprentissage nulle\n",
    "#cela laisse présager du sur-apprentissage --> dès lors, on peut remettre en doute notre performance\n",
    "#de plus, on constate qu'il existe une séparation linéaire des données\n",
    "#nous allons donc utiliser un autre classifieur linéaire : SVML\n",
    "#une SVM à noyaux est inutile"
   ]
  },
  {
   "cell_type": "code",
   "execution_count": 214,
   "metadata": {},
   "outputs": [],
   "source": [
    "Y_train = pd.Series([-1 if(y==0) else 1 for y in Y_train])\n",
    "Y_test = pd.Series([-1 if(y==0) else 1 for y in Y_test])"
   ]
  },
  {
   "cell_type": "code",
   "execution_count": 216,
   "metadata": {
    "scrolled": false
   },
   "outputs": [
    {
     "data": {
      "text/plain": [
       "0.7941176470588235"
      ]
     },
     "execution_count": 216,
     "metadata": {},
     "output_type": "execute_result"
    }
   ],
   "source": [
    "def svc_param_selection_lin(X, y,Cs):\n",
    "    parameters = {'kernel':['linear'], 'C':Cs}\n",
    "    svc = svm.SVC(gamma = 1 , coef0 = 0)\n",
    "    clf = GridSearchCV(svc, parameters , return_train_score = True , cv = KFold(n_splits = 3))\n",
    "    clf.fit(X_train, Y_train)\n",
    "    return clf.best_params_\n",
    "##on effectue une VC 3-fold car moins coûteuse\n",
    "C_lin = svc_param_selection_lin(X_train, Y_train , [.001 , 0.01 , 0.1 , 1 , 10 , 100])[\"C\"]\n",
    "\n",
    "svm_lin = LinearSVC(C = C_lin , max_iter = 10000)\n",
    "svm_lin.fit(X_train , Y_train)\n",
    "y_pred = svm_lin.predict(X_test)\n",
    "y_fit = svm_lin.predict(X_train)\n",
    "accuracy_score(y_pred, Y_test)\n",
    "#même performance/problème que la régression logistique\n",
    "#tout laisse penser que l'on est vite confronté à un problème de sur-apprentissage\n",
    "#lorsque l'on essaye d'ajuster le paramètre C à l'aide d'une validation croisée"
   ]
  },
  {
   "cell_type": "code",
   "execution_count": 217,
   "metadata": {},
   "outputs": [
    {
     "data": {
      "text/plain": [
       "1.0"
      ]
     },
     "execution_count": 217,
     "metadata": {},
     "output_type": "execute_result"
    }
   ],
   "source": [
    "accuracy_score(y_fit, Y_train)\n"
   ]
  },
  {
   "cell_type": "code",
   "execution_count": 218,
   "metadata": {},
   "outputs": [],
   "source": [
    "def oob_m(liste): #renvoie le m minimisant l'erreur OOB\n",
    "    l = []\n",
    "    for m in liste:\n",
    "        clf = RandomForestClassifier(random_state = 0,\n",
    "                             n_estimators = 100 , max_features = m , min_samples_split = 2,\n",
    "                            oob_score = True)\n",
    "        clf.fit(X_train, Y_train)\n",
    "        l.append((m , clf.oob_score_))\n",
    "    return min(l , key = lambda x : x[1])[0]\n",
    "\n",
    "m = oob_m(range(1,8))"
   ]
  },
  {
   "cell_type": "code",
   "execution_count": 219,
   "metadata": {},
   "outputs": [
    {
     "data": {
      "text/plain": [
       "0.7352941176470589"
      ]
     },
     "execution_count": 219,
     "metadata": {},
     "output_type": "execute_result"
    }
   ],
   "source": [
    "clf = RandomForestClassifier(random_state = 0,\n",
    "                             n_estimators = 100 , max_features = m , min_samples_split = 2,\n",
    "                            oob_score = True)\n",
    "clf.fit(X_train, Y_train)\n",
    "y_pred = clf.predict(X_test)\n",
    "y_fit = clf.predict(X_train)\n",
    "accuracy_score(y_pred, Y_test)\n",
    "#accuracy_score(y_fit, Y_train)\n",
    "\n",
    "#moins performante que les précédentes mais l'erreur d'ajustement est nulle aussi --> hypothèse de sur-ajustement"
   ]
  },
  {
   "cell_type": "code",
   "execution_count": 220,
   "metadata": {},
   "outputs": [
    {
     "data": {
      "text/plain": [
       "1.0"
      ]
     },
     "execution_count": 220,
     "metadata": {},
     "output_type": "execute_result"
    }
   ],
   "source": [
    "accuracy_score(y_fit, Y_train)"
   ]
  },
  {
   "cell_type": "code",
   "execution_count": 221,
   "metadata": {},
   "outputs": [],
   "source": [
    "def rfc_CV(ms):\n",
    "    rfc = RandomForestClassifier(random_state = 0, min_samples_split = 2,\n",
    "                            oob_score = True , n_estimators = 100)\n",
    "    param_grid = {'max_features': ms}\n",
    "    CV_rfc = GridSearchCV(estimator=rfc, param_grid=param_grid, cv= KFold(n_splits = 3))\n",
    "    CV_rfc.fit(X_train, Y_train)\n",
    "    return CV_rfc.best_params_[\"max_features\"]\n",
    "#on décide de faire une 3-fold car la LOO est coûteuse"
   ]
  },
  {
   "cell_type": "code",
   "execution_count": 222,
   "metadata": {},
   "outputs": [
    {
     "data": {
      "text/plain": [
       "0.7352941176470589"
      ]
     },
     "execution_count": 222,
     "metadata": {},
     "output_type": "execute_result"
    }
   ],
   "source": [
    "ms = list(range(1,6))\n",
    "m = rfc_CV(ms)\n",
    "rfc = RandomForestClassifier(random_state = 0,\n",
    "                             n_estimators = 100 , max_features = m , min_samples_split = 2,\n",
    "                            oob_score = True)\n",
    "rfc.fit(X_train, Y_train)\n",
    "y_pred = rfc.predict(X_test)\n",
    "y_fit = rfc.predict(X_train)\n",
    "accuracy_score(y_pred, Y_test)\n",
    "#idem"
   ]
  },
  {
   "cell_type": "code",
   "execution_count": 223,
   "metadata": {},
   "outputs": [
    {
     "data": {
      "text/plain": [
       "1.0"
      ]
     },
     "execution_count": 223,
     "metadata": {},
     "output_type": "execute_result"
    }
   ],
   "source": [
    "accuracy_score(y_fit, Y_train)"
   ]
  },
  {
   "cell_type": "code",
   "execution_count": 236,
   "metadata": {},
   "outputs": [],
   "source": [
    "def knn_CV(ks):\n",
    "    neigh = KNeighborsClassifier()\n",
    "    param_grid = {'n_neighbors': ks}\n",
    "    CV_knn = GridSearchCV(estimator=neigh, param_grid=param_grid, cv= KFold(n_splits = 3))\n",
    "    CV_knn.fit(X_train, Y_train)\n",
    "    return CV_knn.best_params_[\"n_neighbors\"]\n",
    "k = knn_CV(list(range(1,100)))"
   ]
  },
  {
   "cell_type": "code",
   "execution_count": 233,
   "metadata": {},
   "outputs": [
    {
     "data": {
      "text/plain": [
       "0.75"
      ]
     },
     "execution_count": 233,
     "metadata": {},
     "output_type": "execute_result"
    }
   ],
   "source": [
    "neigh = KNeighborsClassifier(n_neighbors=k)\n",
    "neigh.fit(X_train, Y_train)\n",
    "y_pred = neigh.predict(X_test)\n",
    "y_fit = neigh.predict(X_train)\n",
    "accuracy_score(y_pred, Y_test)\n",
    "#ici le phénomène s'inverse, par VC, on obtient k tel que l'erreur d'ajustement est élevé -- > sous-apprentissage\n",
    "#le biais de l'algorithme est élevé\n"
   ]
  },
  {
   "cell_type": "code",
   "execution_count": 237,
   "metadata": {},
   "outputs": [
    {
     "data": {
      "text/plain": [
       "0.25"
      ]
     },
     "execution_count": 237,
     "metadata": {},
     "output_type": "execute_result"
    }
   ],
   "source": [
    "1-accuracy_score(y_pred, Y_test)"
   ]
  },
  {
   "cell_type": "code",
   "execution_count": 238,
   "metadata": {},
   "outputs": [
    {
     "data": {
      "text/plain": [
       "0.21999999999999997"
      ]
     },
     "execution_count": 238,
     "metadata": {},
     "output_type": "execute_result"
    }
   ],
   "source": [
    "1-accuracy_score(y_fit , Y_train) #erreur élevée"
   ]
  },
  {
   "cell_type": "code",
   "execution_count": 224,
   "metadata": {},
   "outputs": [],
   "source": [
    "def ada_CV(ns):\n",
    "    ada = AdaBoostClassifier(random_state=0)\n",
    "    param_grid = {'n_estimators': ns}\n",
    "    CV_ada = GridSearchCV(estimator=ada, param_grid=param_grid, cv= KFold(n_splits = 3))\n",
    "    CV_ada.fit(X_train, Y_train)\n",
    "    return CV_ada.best_params_[\"n_estimators\"]\n",
    "B = ada_CV(list(range(1,100)))"
   ]
  },
  {
   "cell_type": "code",
   "execution_count": 225,
   "metadata": {},
   "outputs": [
    {
     "data": {
      "text/plain": [
       "0.75"
      ]
     },
     "execution_count": 225,
     "metadata": {},
     "output_type": "execute_result"
    }
   ],
   "source": [
    "ada = AdaBoostClassifier(n_estimators = B, random_state=0)\n",
    "ada.fit(X_train, Y_train)\n",
    "y_pred = ada.predict(X_test)\n",
    "y_fit = ada.predict(X_train)\n",
    "accuracy_score(y_pred, Y_test)\n"
   ]
  },
  {
   "cell_type": "code",
   "execution_count": 226,
   "metadata": {},
   "outputs": [
    {
     "data": {
      "text/plain": [
       "0.87"
      ]
     },
     "execution_count": 226,
     "metadata": {},
     "output_type": "execute_result"
    }
   ],
   "source": [
    "(accuracy_score(y_fit, Y_train))\n",
    "#ce modèle semble aussi souffrir de sur-apprentissage : avec une grille plus large, nous aurions une erreur d'ajustement nulle\n"
   ]
  },
  {
   "cell_type": "code",
   "execution_count": 227,
   "metadata": {},
   "outputs": [],
   "source": [
    "def dtree_grid_search(X,y,depth):\n",
    "    param_grid = {'max_depth': depth}\n",
    "    dtree_model=DecisionTreeClassifier(random_state = 0)\n",
    "    dtree_gscv = GridSearchCV(dtree_model, param_grid, cv= KFold(n_splits = 3))\n",
    "    dtree_gscv.fit(X, y)\n",
    "    return dtree_gscv.best_params_\n",
    "\n",
    "P = dtree_grid_search(X_train,Y_train,list(range(3,100)))[\"max_depth\"]\n",
    "\n",
    "arb = DecisionTreeClassifier(random_state=0 , max_depth = P)"
   ]
  },
  {
   "cell_type": "code",
   "execution_count": 228,
   "metadata": {},
   "outputs": [
    {
     "data": {
      "text/plain": [
       "0.7794117647058824"
      ]
     },
     "execution_count": 228,
     "metadata": {},
     "output_type": "execute_result"
    }
   ],
   "source": [
    "arb.fit(X_train, Y_train)\n",
    "y_pred = arb.predict(X_test)\n",
    "y_fit = arb.predict(X_train)\n",
    "accuracy_score(y_pred, Y_test)"
   ]
  },
  {
   "cell_type": "code",
   "execution_count": 229,
   "metadata": {},
   "outputs": [
    {
     "data": {
      "text/plain": [
       "0.9033333333333333"
      ]
     },
     "execution_count": 229,
     "metadata": {},
     "output_type": "execute_result"
    }
   ],
   "source": [
    "accuracy_score(y_fit, Y_train) #idem pour ce modèle mais à un degré moindre"
   ]
  },
  {
   "cell_type": "code",
   "execution_count": 231,
   "metadata": {},
   "outputs": [],
   "source": [
    "#En conclusion, on décide de supprimer la variable ID pour éviter ces problèmes de sur-apprentissage lors de la\n",
    "#calibration des paramètres\n",
    "#En la supprimant, les procédures de validation croisée nous permettront de déterminer des paramètres qui nous feront\n",
    "#éviter le sur-apprentissage et par la même occasion le sous-apprentissage"
   ]
  }
 ],
 "metadata": {
  "kernelspec": {
   "display_name": "Python 3",
   "language": "python",
   "name": "python3"
  },
  "language_info": {
   "codemirror_mode": {
    "name": "ipython",
    "version": 3
   },
   "file_extension": ".py",
   "mimetype": "text/x-python",
   "name": "python",
   "nbconvert_exporter": "python",
   "pygments_lexer": "ipython3",
   "version": "3.7.4"
  }
 },
 "nbformat": 4,
 "nbformat_minor": 2
}
