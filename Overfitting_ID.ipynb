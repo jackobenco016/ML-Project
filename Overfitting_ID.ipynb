{
 "cells": [
  {
   "cell_type": "code",
   "execution_count": 120,
   "metadata": {},
   "outputs": [],
   "source": [
    "import pandas as pd\n",
    "import pprint\n",
    "from impyute.imputation.cs import mice#\n",
    "from sklearn.experimental import enable_iterative_imputer\n",
    "from sklearn.impute import IterativeImputer#\n",
    "import missingno as msno#\n",
    "import numpy as np\n",
    "from matplotlib import pyplot as plt\n",
    "from scipy.spatial.distance import squareform, pdist\n",
    "from missingpy import KNNImputer\n",
    "%matplotlib inline\n",
    "%config InlineBackend.figure_format = 'retina'\n",
    "import seaborn as sns\n",
    "sns.set()\n",
    "pd.set_option(\"display.max_rows\", 8)\n",
    "plt.rcParams['figure.figsize'] = (9, 6)\n",
    "from missingpy import MissForest\n",
    "import io\n",
    "from sklearn.preprocessing import StandardScaler, MinMaxScaler, MaxAbsScaler\n",
    "from sklearn.pipeline import Pipeline\n",
    "from sklearn.linear_model import LogisticRegression\n",
    "import pickle\n",
    "from sklearn.metrics import accuracy_score, precision_score, recall_score, f1_score, classification_report, confusion_matrix\n",
    "from sklearn import decomposition\n",
    "from mpl_toolkits.mplot3d import axes3d, Axes3D\n",
    "from sklearn.decomposition import PCA, KernelPCA\n",
    "from sklearn.datasets import make_circles\n",
    "from sklearn.svm import LinearSVC\n",
    "from sklearn import svm\n",
    "from sklearn.model_selection import GridSearchCV\n",
    "from sklearn.ensemble import RandomForestClassifier\n",
    "from sklearn.neighbors import KNeighborsClassifier\n",
    "from sklearn.ensemble import AdaBoostClassifier\n",
    "from sklearn.ensemble import GradientBoostingClassifier\n",
    "from sklearn.model_selection import LeaveOneOut\n",
    "from sklearn.model_selection import KFold\n",
    "from sklearn.preprocessing import LabelEncoder\n",
    "from sklearn.tree import DecisionTreeClassifier"
   ]
  },
  {
   "cell_type": "code",
   "execution_count": 3,
   "metadata": {
    "scrolled": true
   },
   "outputs": [],
   "source": [
    "Dapp = pd.read_csv(\"horse-colic.data\" , sep = \"\\s+\", names = [\"V\"+str(i) for i in range(28)])\n",
    "Dtest = pd.read_csv(\"horse-colic.test\" , sep = \"\\s+\", names = [\"V\"+str(i) for i in range(28)])\n",
    "liste_drop = [\"V22\",\"V23\",\"V24\",\"V25\",\"V26\",\"V27\"]\n",
    "Dapp = Dapp.drop(liste_drop , axis = 1)\n",
    "Dtest = Dtest.drop(liste_drop , axis = 1)\n",
    "Dapp = Dapp.replace(\"?\",np.nan)\n",
    "Dtest = Dtest.replace(\"?\",np.nan)\n",
    "\n",
    "#Dtest\n",
    "#Dapp\n",
    "#On utilisera une méthode d'imputation qui gère différentes types pour les variables ! (cf Référence)\n",
    "#On se doit tout de même spécifier le type des variables\n"
   ]
  },
  {
   "cell_type": "code",
   "execution_count": 4,
   "metadata": {},
   "outputs": [
    {
     "data": {
      "text/plain": [
       "['V3', 'V4', 'V5', 'V15', 'V18', 'V19', 'V21']"
      ]
     },
     "execution_count": 4,
     "metadata": {},
     "output_type": "execute_result"
    }
   ],
   "source": [
    "d = {}\n",
    "liste_categorical = [] ; liste_numerical = []\n",
    "for i in range(22):\n",
    "    if(i in list(range(3)) + list(range(6 , 15)) + [16 , 17 , 20]):\n",
    "        d[\"V\"+str(i)] = \"category\"\n",
    "        liste_categorical.append(\"V\"+str(i))\n",
    "    else:\n",
    "        d[\"V\"+str(i)] = \"float64\"\n",
    "        liste_numerical.append(\"V\"+str(i))\n",
    "liste_categorical\n",
    "liste_numerical"
   ]
  },
  {
   "cell_type": "code",
   "execution_count": 15,
   "metadata": {},
   "outputs": [],
   "source": [
    "label_V2 = list(set(list(Dapp.V2.unique()) + list(Dtest.V2.unique()) ))\n",
    "label_V2 = [str(x) for x in label_V2]\n"
   ]
  },
  {
   "cell_type": "code",
   "execution_count": 16,
   "metadata": {},
   "outputs": [],
   "source": [
    "Dapp = Dapp.astype(d)\n",
    "Dtest = Dtest.astype(d)\n",
    "Dapp_num = Dapp.select_dtypes(include=['float64']) ; Dapp_cat = Dapp.select_dtypes(include=['category'])\n",
    "Dtest_num = Dtest.select_dtypes(include=['float64']) ; Dtest_cat = Dtest.select_dtypes(include=['category'])\n",
    "Dtest_cat.loc[: , \"V9\"] = pd.Series(pd.Categorical(Dtest_cat.loc[: , \"V9\"], categories=[\"1\",\"2\",\"3\"]))\n",
    "Dtest_cat.loc[: , \"V2\"] = Dtest_cat.loc[: , \"V2\"].astype(\"str\")\n",
    "Dapp_cat.loc[: , \"V2\"] = Dapp_cat.loc[: , \"V2\"].astype(\"str\")\n",
    "Dtest_cat.loc[: , \"V2\"] = pd.Series(pd.Categorical(Dtest_cat.loc[: , \"V2\"], categories=label_V2))\n",
    "Dapp_cat.loc[: , \"V2\"] = pd.Series(pd.Categorical(Dapp_cat.loc[: , \"V2\"], categories=label_V2))\n"
   ]
  },
  {
   "cell_type": "code",
   "execution_count": 17,
   "metadata": {},
   "outputs": [],
   "source": [
    "def g(l):\n",
    "    return np.array([float(x) for x in l])\n",
    "\n",
    "imputed_training=mice(np.array(list(map(g , Dapp_num.values))))\n",
    "imputed_test = mice(np.array(list(map(g , Dtest_num.values))))\n",
    "\n",
    "Dapp_num_imputed = pd.DataFrame(list(map(np.ravel, (list(imputed_training))))).round(2)\n",
    "Dapp_num_imputed.columns = liste_numerical\n",
    "\n",
    "Dtest_num_imputed = pd.DataFrame(list(map(np.ravel, (list(imputed_test))))).round(2)\n",
    "Dtest_num_imputed.columns = liste_numerical"
   ]
  },
  {
   "cell_type": "code",
   "execution_count": 18,
   "metadata": {},
   "outputs": [
    {
     "name": "stderr",
     "output_type": "stream",
     "text": [
      "C:\\Users\\Benco\\Anaconda3\\lib\\site-packages\\sklearn\\utils\\validation.py:432: DeprecationWarning: 'warn_on_dtype' is deprecated in version 0.21 and will be removed in 0.23. Don't set `warn_on_dtype` to remove this warning.\n",
      "  DeprecationWarning)\n",
      "C:\\Users\\Benco\\Anaconda3\\lib\\site-packages\\sklearn\\utils\\validation.py:432: DeprecationWarning: 'warn_on_dtype' is deprecated in version 0.21 and will be removed in 0.23. Don't set `warn_on_dtype` to remove this warning.\n",
      "  DeprecationWarning)\n",
      "C:\\Users\\Benco\\Anaconda3\\lib\\site-packages\\sklearn\\utils\\validation.py:432: DeprecationWarning: 'warn_on_dtype' is deprecated in version 0.21 and will be removed in 0.23. Don't set `warn_on_dtype` to remove this warning.\n",
      "  DeprecationWarning)\n",
      "C:\\Users\\Benco\\Anaconda3\\lib\\site-packages\\sklearn\\utils\\validation.py:432: DeprecationWarning: 'warn_on_dtype' is deprecated in version 0.21 and will be removed in 0.23. Don't set `warn_on_dtype` to remove this warning.\n",
      "  DeprecationWarning)\n"
     ]
    }
   ],
   "source": [
    "## On a généré quelques valeurs négatives, il est nécessaire d'effectuer de nouvelles imputations sur nos données\n",
    "Dapp_num_imputed[Dapp_num_imputed < 0] = np.nan\n",
    "Dtest_num_imputed[Dtest_num_imputed < 0] = np.nan\n",
    "\n",
    "distances_app = pdist(Dapp_num_imputed.values, metric='euclidean')\n",
    "dist_matrix_app = squareform(distances_app)\n",
    "matrice_distance_app = pd.DataFrame(list(map(np.ravel, (list(dist_matrix_app))))).round(2)\n",
    "\n",
    "distances_test = pdist(Dtest_num_imputed.values, metric='euclidean')\n",
    "dist_matrix_test = squareform(distances_test)\n",
    "matrice_distance_test = pd.DataFrame(list(map(np.ravel, (list(dist_matrix_test))))).round(2)\n",
    "#on ne peut pas se permettre de prendre des poids uniformes\n",
    "#en effet, il se peut que le 2e plus proche soit en réalité très loin du point par rapport au premier\n",
    "\n",
    "imputer = KNNImputer(n_neighbors=15, weights=\"distance\")\n",
    "Dapp_num_imputed = pd.DataFrame(list(map(np.ravel, (list(imputer.fit_transform(Dapp_num_imputed)))))).round(2)\n",
    "\n",
    "imputer = KNNImputer(n_neighbors=3, weights=\"distance\")\n",
    "Dtest_num_imputed = pd.DataFrame(list(map(np.ravel, (list(imputer.fit_transform(Dtest_num_imputed)))))).round(2)\n",
    "\n",
    "Dapp_num_imputed.columns = liste_numerical ; Dtest_num_imputed.columns = liste_numerical\n",
    "#le choix du nombre de voisins est difficile, on fait donc des choix arbitraires\n"
   ]
  },
  {
   "cell_type": "code",
   "execution_count": null,
   "metadata": {},
   "outputs": [],
   "source": [
    "{lab : 1-(len(Dtest_num[lab].dropna())/len(Dtest_num)) for lab in liste_numerical} \n",
    "{lab : 1-(len(Dapp_num[lab].dropna())/len(Dapp_num)) for lab in liste_numerical} \n"
   ]
  },
  {
   "cell_type": "code",
   "execution_count": null,
   "metadata": {},
   "outputs": [],
   "source": [
    "x = Dapp_num.V21\n",
    "y = Dapp_num_imputed.V21\n",
    "#L'objectif est de comparer les distributions pour voir si l'on observe une certaine cohérence après imputation\n",
    "#on compare les distributions avant/après\n",
    "#on calcule aussi la proportion de données manquantes pour être sûr que la comparaison ait un sens.\n",
    "#il faut que le % de données manquantes ne soit ni trop faible ni trop élevé pour pouvoir comparer\n",
    "#on peut faire une \"évaluation\" visuelle de notre imputation sur cette variable choisie\n",
    "plt.hist([x, y], label=['Missing data', 'Imputed data'] , color = [\"plum\",\"peru\"])\n",
    "plt.legend(loc='upper right')\n",
    "plt.show()"
   ]
  },
  {
   "cell_type": "code",
   "execution_count": 19,
   "metadata": {
    "scrolled": true
   },
   "outputs": [
    {
     "name": "stdout",
     "output_type": "stream",
     "text": [
      "Iteration: 0\n",
      "Iteration: 1\n",
      "Iteration: 2\n",
      "Iteration: 3\n",
      "Iteration: 4\n",
      "Iteration: 5\n",
      "Iteration: 6\n",
      "Iteration: 0\n",
      "Iteration: 1\n",
      "Iteration: 2\n",
      "Iteration: 3\n",
      "Iteration: 4\n"
     ]
    }
   ],
   "source": [
    "#Dapp_cat = Dapp_cat.drop([\"V2\"] , axis = 1) ; Dtest_cat = Dtest_cat.drop([\"V2\"] , axis = 1)\n",
    "cat_cols = [Dapp_cat.columns.get_loc(col) for col in Dapp_cat.select_dtypes(['category']).columns.tolist()]\n",
    "\n",
    "imputer = MissForest(random_state = 100)\n",
    "Dapp_cat_imputed = imputer.fit_transform(Dapp_cat , cat_vars = cat_cols)\n",
    "Dapp_cat_imputed = pd.DataFrame(list(map(np.ravel, (list(Dapp_cat_imputed)))))\n",
    "Dapp_cat_imputed.columns = [x for x in liste_categorical] #if(x!=\"V2\")\n",
    "Dapp_cat_imputed = Dapp_cat_imputed.apply(lambda x : x.astype(int).astype(str).astype(\"category\") , axis = 1)\n",
    "Dapp_cat_imputed.loc[: , \"V2\"] = Dapp_cat_imputed.loc[: , \"V2\"].astype(\"str\")\n",
    "Dapp_cat_imputed.loc[: , \"V2\"] = pd.Series(pd.Categorical(Dapp_cat_imputed.loc[: , \"V2\"], categories=label_V2))\n",
    "\n",
    "\n",
    "Dtest_cat_imputed = imputer.transform(Dtest_cat)\n",
    "Dtest_cat_imputed = pd.DataFrame(list(map(np.ravel, (list(Dtest_cat_imputed)))))\n",
    "Dtest_cat_imputed.columns = [x for x in liste_categorical] #if(x!=\"V2\")\n",
    "Dtest_cat_imputed = Dtest_cat_imputed.apply(lambda x : x.astype(int).astype(str).astype(\"category\") , axis = 1)\n",
    "Dtest_cat_imputed.loc[: , \"V9\"] = pd.Series(pd.Categorical(Dtest_cat_imputed.loc[: , \"V9\"], categories=[\"1\",\"2\",\"3\"]))\n",
    "Dtest_cat_imputed.loc[: , \"V2\"] = Dtest_cat_imputed.loc[: , \"V2\"].astype(\"str\")\n",
    "Dtest_cat_imputed.loc[: , \"V2\"] = pd.Series(pd.Categorical(Dtest_cat_imputed.loc[: , \"V2\"], categories=label_V2))\n",
    "#une modalité de V9 n'est pas présente dans la variable V9 des données de test : il faut rajouter une catégorie\n",
    "#pour la variable V9 des données de test"
   ]
  },
  {
   "cell_type": "code",
   "execution_count": null,
   "metadata": {},
   "outputs": [],
   "source": [
    "{lab : 1-(len(Dtest_cat[lab].dropna())/len(Dtest)) for lab in liste_categorical if(lab != \"V2\")} \n",
    "{lab : 1-(len(Dapp_cat[lab].dropna())/len(Dapp)) for lab in liste_categorical if(lab != \"V2\")}\n",
    "#les proportions de données manquantes pour chaque varible"
   ]
  },
  {
   "cell_type": "code",
   "execution_count": 20,
   "metadata": {},
   "outputs": [
    {
     "data": {
      "text/plain": [
       "<matplotlib.axes._subplots.AxesSubplot at 0x2369c871e48>"
      ]
     },
     "execution_count": 20,
     "metadata": {},
     "output_type": "execute_result"
    },
    {
     "data": {
      "image/png": "[encoded data removed]",
      "text/plain": [
       "<Figure size 432x288 with 1 Axes>"
      ]
     },
     "metadata": {
      "image/png": {
       "height": 247,
       "width": 377
      },
      "needs_background": "light"
     },
     "output_type": "display_data"
    }
   ],
   "source": [
    "Dapp_cat_imputed.V13.value_counts().sort_index().plot(kind = \"bar\")\n",
    "#en pratique, il est nécessaire de vérifier la distribution des variables avant\\après imputation\n",
    "#on trace donc des barplot pour avoir une idée"
   ]
  },
  {
   "cell_type": "code",
   "execution_count": 21,
   "metadata": {},
   "outputs": [
    {
     "data": {
      "text/plain": [
       "<matplotlib.axes._subplots.AxesSubplot at 0x2369c5a3288>"
      ]
     },
     "execution_count": 21,
     "metadata": {},
     "output_type": "execute_result"
    },
    {
     "data": {
      "image/png": "[encoded data removed]",
      "text/plain": [
       "<Figure size 432x288 with 1 Axes>"
      ]
     },
     "metadata": {
      "image/png": {
       "height": 247,
       "width": 376
      },
      "needs_background": "light"
     },
     "output_type": "display_data"
    }
   ],
   "source": [
    "Dapp_cat[\"V13\"].value_counts().sort_index().plot(kind = \"bar\")"
   ]
  },
  {
   "cell_type": "code",
   "execution_count": 22,
   "metadata": {},
   "outputs": [
    {
     "data": {
      "text/html": [
       "<div>\n",
       "<style scoped>\n",
       "    .dataframe tbody tr th:only-of-type {\n",
       "        vertical-align: middle;\n",
       "    }\n",
       "\n",
       "    .dataframe tbody tr th {\n",
       "        vertical-align: top;\n",
       "    }\n",
       "\n",
       "    .dataframe thead th {\n",
       "        text-align: right;\n",
       "    }\n",
       "</style>\n",
       "<table border=\"1\" class=\"dataframe\">\n",
       "  <thead>\n",
       "    <tr style=\"text-align: right;\">\n",
       "      <th></th>\n",
       "      <th>V0</th>\n",
       "      <th>V1</th>\n",
       "      <th>V2</th>\n",
       "      <th>V3</th>\n",
       "      <th>V4</th>\n",
       "      <th>V5</th>\n",
       "      <th>V6</th>\n",
       "      <th>V7</th>\n",
       "      <th>V8</th>\n",
       "      <th>V9</th>\n",
       "      <th>...</th>\n",
       "      <th>V12</th>\n",
       "      <th>V13</th>\n",
       "      <th>V14</th>\n",
       "      <th>V15</th>\n",
       "      <th>V16</th>\n",
       "      <th>V17</th>\n",
       "      <th>V18</th>\n",
       "      <th>V19</th>\n",
       "      <th>V20</th>\n",
       "      <th>V21</th>\n",
       "    </tr>\n",
       "  </thead>\n",
       "  <tbody>\n",
       "    <tr>\n",
       "      <td>0</td>\n",
       "      <td>2</td>\n",
       "      <td>1</td>\n",
       "      <td>528626</td>\n",
       "      <td>38.5</td>\n",
       "      <td>54.0</td>\n",
       "      <td>20.0</td>\n",
       "      <td>3</td>\n",
       "      <td>1</td>\n",
       "      <td>2</td>\n",
       "      <td>2</td>\n",
       "      <td>...</td>\n",
       "      <td>1</td>\n",
       "      <td>2</td>\n",
       "      <td>2</td>\n",
       "      <td>5.90</td>\n",
       "      <td>4</td>\n",
       "      <td>2</td>\n",
       "      <td>42.0</td>\n",
       "      <td>6.3</td>\n",
       "      <td>2</td>\n",
       "      <td>4.61</td>\n",
       "    </tr>\n",
       "    <tr>\n",
       "      <td>1</td>\n",
       "      <td>2</td>\n",
       "      <td>1</td>\n",
       "      <td>527950</td>\n",
       "      <td>37.6</td>\n",
       "      <td>48.0</td>\n",
       "      <td>36.0</td>\n",
       "      <td>1</td>\n",
       "      <td>1</td>\n",
       "      <td>1</td>\n",
       "      <td>1</td>\n",
       "      <td>...</td>\n",
       "      <td>2</td>\n",
       "      <td>2</td>\n",
       "      <td>1</td>\n",
       "      <td>5.73</td>\n",
       "      <td>3</td>\n",
       "      <td>5</td>\n",
       "      <td>44.0</td>\n",
       "      <td>6.3</td>\n",
       "      <td>1</td>\n",
       "      <td>5.00</td>\n",
       "    </tr>\n",
       "    <tr>\n",
       "      <td>2</td>\n",
       "      <td>1</td>\n",
       "      <td>1</td>\n",
       "      <td>535263</td>\n",
       "      <td>37.7</td>\n",
       "      <td>44.0</td>\n",
       "      <td>28.0</td>\n",
       "      <td>3</td>\n",
       "      <td>4</td>\n",
       "      <td>3</td>\n",
       "      <td>2</td>\n",
       "      <td>...</td>\n",
       "      <td>4</td>\n",
       "      <td>1</td>\n",
       "      <td>1</td>\n",
       "      <td>4.91</td>\n",
       "      <td>3</td>\n",
       "      <td>5</td>\n",
       "      <td>45.0</td>\n",
       "      <td>70.0</td>\n",
       "      <td>3</td>\n",
       "      <td>2.00</td>\n",
       "    </tr>\n",
       "    <tr>\n",
       "      <td>3</td>\n",
       "      <td>1</td>\n",
       "      <td>1</td>\n",
       "      <td>534523</td>\n",
       "      <td>37.0</td>\n",
       "      <td>56.0</td>\n",
       "      <td>24.0</td>\n",
       "      <td>3</td>\n",
       "      <td>1</td>\n",
       "      <td>4</td>\n",
       "      <td>2</td>\n",
       "      <td>...</td>\n",
       "      <td>3</td>\n",
       "      <td>1</td>\n",
       "      <td>1</td>\n",
       "      <td>4.31</td>\n",
       "      <td>4</td>\n",
       "      <td>5</td>\n",
       "      <td>35.0</td>\n",
       "      <td>61.0</td>\n",
       "      <td>3</td>\n",
       "      <td>2.00</td>\n",
       "    </tr>\n",
       "    <tr>\n",
       "      <td>...</td>\n",
       "      <td>...</td>\n",
       "      <td>...</td>\n",
       "      <td>...</td>\n",
       "      <td>...</td>\n",
       "      <td>...</td>\n",
       "      <td>...</td>\n",
       "      <td>...</td>\n",
       "      <td>...</td>\n",
       "      <td>...</td>\n",
       "      <td>...</td>\n",
       "      <td>...</td>\n",
       "      <td>...</td>\n",
       "      <td>...</td>\n",
       "      <td>...</td>\n",
       "      <td>...</td>\n",
       "      <td>...</td>\n",
       "      <td>...</td>\n",
       "      <td>...</td>\n",
       "      <td>...</td>\n",
       "      <td>...</td>\n",
       "      <td>...</td>\n",
       "    </tr>\n",
       "    <tr>\n",
       "      <td>64</td>\n",
       "      <td>2</td>\n",
       "      <td>1</td>\n",
       "      <td>528452</td>\n",
       "      <td>37.8</td>\n",
       "      <td>42.0</td>\n",
       "      <td>40.0</td>\n",
       "      <td>1</td>\n",
       "      <td>1</td>\n",
       "      <td>1</td>\n",
       "      <td>1</td>\n",
       "      <td>...</td>\n",
       "      <td>1</td>\n",
       "      <td>2</td>\n",
       "      <td>1</td>\n",
       "      <td>7.47</td>\n",
       "      <td>3</td>\n",
       "      <td>3</td>\n",
       "      <td>36.0</td>\n",
       "      <td>6.2</td>\n",
       "      <td>1</td>\n",
       "      <td>2.97</td>\n",
       "    </tr>\n",
       "    <tr>\n",
       "      <td>65</td>\n",
       "      <td>1</td>\n",
       "      <td>1</td>\n",
       "      <td>534783</td>\n",
       "      <td>38.0</td>\n",
       "      <td>60.0</td>\n",
       "      <td>12.0</td>\n",
       "      <td>1</td>\n",
       "      <td>1</td>\n",
       "      <td>2</td>\n",
       "      <td>1</td>\n",
       "      <td>...</td>\n",
       "      <td>1</td>\n",
       "      <td>1</td>\n",
       "      <td>1</td>\n",
       "      <td>4.37</td>\n",
       "      <td>1</td>\n",
       "      <td>4</td>\n",
       "      <td>44.0</td>\n",
       "      <td>65.0</td>\n",
       "      <td>3</td>\n",
       "      <td>2.00</td>\n",
       "    </tr>\n",
       "    <tr>\n",
       "      <td>66</td>\n",
       "      <td>2</td>\n",
       "      <td>1</td>\n",
       "      <td>528926</td>\n",
       "      <td>38.0</td>\n",
       "      <td>42.0</td>\n",
       "      <td>12.0</td>\n",
       "      <td>3</td>\n",
       "      <td>1</td>\n",
       "      <td>3</td>\n",
       "      <td>1</td>\n",
       "      <td>...</td>\n",
       "      <td>1</td>\n",
       "      <td>2</td>\n",
       "      <td>1</td>\n",
       "      <td>6.39</td>\n",
       "      <td>4</td>\n",
       "      <td>1</td>\n",
       "      <td>37.0</td>\n",
       "      <td>5.8</td>\n",
       "      <td>2</td>\n",
       "      <td>3.20</td>\n",
       "    </tr>\n",
       "    <tr>\n",
       "      <td>67</td>\n",
       "      <td>2</td>\n",
       "      <td>1</td>\n",
       "      <td>530670</td>\n",
       "      <td>37.6</td>\n",
       "      <td>88.0</td>\n",
       "      <td>36.0</td>\n",
       "      <td>3</td>\n",
       "      <td>1</td>\n",
       "      <td>1</td>\n",
       "      <td>1</td>\n",
       "      <td>...</td>\n",
       "      <td>2</td>\n",
       "      <td>1</td>\n",
       "      <td>3</td>\n",
       "      <td>1.50</td>\n",
       "      <td>4</td>\n",
       "      <td>4</td>\n",
       "      <td>44.0</td>\n",
       "      <td>6.0</td>\n",
       "      <td>2</td>\n",
       "      <td>10.20</td>\n",
       "    </tr>\n",
       "  </tbody>\n",
       "</table>\n",
       "<p>68 rows × 22 columns</p>\n",
       "</div>"
      ],
      "text/plain": [
       "   V0 V1      V2    V3    V4    V5 V6 V7 V8 V9  ... V12 V13 V14   V15 V16  \\\n",
       "0   2  1  528626  38.5  54.0  20.0  3  1  2  2  ...   1   2   2  5.90   4   \n",
       "1   2  1  527950  37.6  48.0  36.0  1  1  1  1  ...   2   2   1  5.73   3   \n",
       "2   1  1  535263  37.7  44.0  28.0  3  4  3  2  ...   4   1   1  4.91   3   \n",
       "3   1  1  534523  37.0  56.0  24.0  3  1  4  2  ...   3   1   1  4.31   4   \n",
       ".. .. ..     ...   ...   ...   ... .. .. .. ..  ...  ..  ..  ..   ...  ..   \n",
       "64  2  1  528452  37.8  42.0  40.0  1  1  1  1  ...   1   2   1  7.47   3   \n",
       "65  1  1  534783  38.0  60.0  12.0  1  1  2  1  ...   1   1   1  4.37   1   \n",
       "66  2  1  528926  38.0  42.0  12.0  3  1  3  1  ...   1   2   1  6.39   4   \n",
       "67  2  1  530670  37.6  88.0  36.0  3  1  1  1  ...   2   1   3  1.50   4   \n",
       "\n",
       "    V17   V18   V19  V20    V21  \n",
       "0     2  42.0   6.3    2   4.61  \n",
       "1     5  44.0   6.3    1   5.00  \n",
       "2     5  45.0  70.0    3   2.00  \n",
       "3     5  35.0  61.0    3   2.00  \n",
       "..  ...   ...   ...  ...    ...  \n",
       "64    3  36.0   6.2    1   2.97  \n",
       "65    4  44.0  65.0    3   2.00  \n",
       "66    1  37.0   5.8    2   3.20  \n",
       "67    4  44.0   6.0    2  10.20  \n",
       "\n",
       "[68 rows x 22 columns]"
      ]
     },
     "execution_count": 22,
     "metadata": {},
     "output_type": "execute_result"
    }
   ],
   "source": [
    "Dapp_imputed = pd.concat([Dapp_num_imputed.reset_index(drop=True), Dapp_cat_imputed], axis=1)\n",
    "Dapp_imputed.columns = [int(x[1:]) for x in Dapp_imputed.columns]\n",
    "Dapp_imputed = Dapp_imputed.sort_index(axis = 1)\n",
    "Dapp_imputed.columns = [\"V\"+str(x) for x in Dapp_imputed.columns]\n",
    "\n",
    "Dtest_imputed = pd.concat([Dtest_num_imputed.reset_index(drop=True), Dtest_cat_imputed], axis=1)\n",
    "Dtest_imputed.columns = [int(x[1:]) for x in Dtest_imputed.columns]\n",
    "Dtest_imputed = Dtest_imputed.sort_index(axis = 1)\n",
    "Dtest_imputed.columns = [\"V\"+str(x) for x in Dtest_imputed.columns]\n",
    "Dtest_imputed"
   ]
  },
  {
   "cell_type": "code",
   "execution_count": null,
   "metadata": {},
   "outputs": [],
   "source": [
    "Dapp_imputed"
   ]
  },
  {
   "cell_type": "code",
   "execution_count": 286,
   "metadata": {},
   "outputs": [],
   "source": [
    "#Dtest_imputed.to_pickle(\"Dtest_imputed.pkl\")\n",
    "#Dapp_imputed.to_pickle(\"Dapp_imputed.pkl\")"
   ]
  },
  {
   "cell_type": "code",
   "execution_count": 287,
   "metadata": {
    "scrolled": true
   },
   "outputs": [],
   "source": [
    "Dapp_imputed = pd.read_pickle(\"Dapp_imputed.pkl\")\n",
    "Dtest_imputed = pd.read_pickle(\"Dtest_imputed.pkl\")"
   ]
  },
  {
   "cell_type": "code",
   "execution_count": 23,
   "metadata": {},
   "outputs": [],
   "source": [
    "liste_cat_bis = [x for x in liste_categorical if(x not in [\"V0\"] )]"
   ]
  },
  {
   "cell_type": "code",
   "execution_count": 24,
   "metadata": {},
   "outputs": [
    {
     "data": {
      "text/html": [
       "<div>\n",
       "<style scoped>\n",
       "    .dataframe tbody tr th:only-of-type {\n",
       "        vertical-align: middle;\n",
       "    }\n",
       "\n",
       "    .dataframe tbody tr th {\n",
       "        vertical-align: top;\n",
       "    }\n",
       "\n",
       "    .dataframe thead th {\n",
       "        text-align: right;\n",
       "    }\n",
       "</style>\n",
       "<table border=\"1\" class=\"dataframe\">\n",
       "  <thead>\n",
       "    <tr style=\"text-align: right;\">\n",
       "      <th></th>\n",
       "      <th>V0</th>\n",
       "      <th>V3</th>\n",
       "      <th>V4</th>\n",
       "      <th>V5</th>\n",
       "      <th>V15</th>\n",
       "      <th>V18</th>\n",
       "      <th>V19</th>\n",
       "      <th>V21</th>\n",
       "      <th>V1_9</th>\n",
       "      <th>V2_530439</th>\n",
       "      <th>...</th>\n",
       "      <th>V14_3</th>\n",
       "      <th>V16_2</th>\n",
       "      <th>V16_3</th>\n",
       "      <th>V16_4</th>\n",
       "      <th>V17_2</th>\n",
       "      <th>V17_3</th>\n",
       "      <th>V17_4</th>\n",
       "      <th>V17_5</th>\n",
       "      <th>V20_2</th>\n",
       "      <th>V20_3</th>\n",
       "    </tr>\n",
       "  </thead>\n",
       "  <tbody>\n",
       "    <tr>\n",
       "      <td>0</td>\n",
       "      <td>0</td>\n",
       "      <td>0.499926</td>\n",
       "      <td>-0.646563</td>\n",
       "      <td>-0.653774</td>\n",
       "      <td>0.685917</td>\n",
       "      <td>-0.431954</td>\n",
       "      <td>-0.697744</td>\n",
       "      <td>1.137392</td>\n",
       "      <td>0</td>\n",
       "      <td>0</td>\n",
       "      <td>...</td>\n",
       "      <td>0</td>\n",
       "      <td>0</td>\n",
       "      <td>0</td>\n",
       "      <td>1</td>\n",
       "      <td>1</td>\n",
       "      <td>0</td>\n",
       "      <td>0</td>\n",
       "      <td>0</td>\n",
       "      <td>1</td>\n",
       "      <td>0</td>\n",
       "    </tr>\n",
       "    <tr>\n",
       "      <td>1</td>\n",
       "      <td>0</td>\n",
       "      <td>-0.869317</td>\n",
       "      <td>-0.861507</td>\n",
       "      <td>0.336586</td>\n",
       "      <td>0.596896</td>\n",
       "      <td>-0.230903</td>\n",
       "      <td>-0.697744</td>\n",
       "      <td>1.410798</td>\n",
       "      <td>0</td>\n",
       "      <td>0</td>\n",
       "      <td>...</td>\n",
       "      <td>0</td>\n",
       "      <td>0</td>\n",
       "      <td>1</td>\n",
       "      <td>0</td>\n",
       "      <td>0</td>\n",
       "      <td>0</td>\n",
       "      <td>0</td>\n",
       "      <td>1</td>\n",
       "      <td>0</td>\n",
       "      <td>0</td>\n",
       "    </tr>\n",
       "    <tr>\n",
       "      <td>2</td>\n",
       "      <td>1</td>\n",
       "      <td>-0.717179</td>\n",
       "      <td>-1.004802</td>\n",
       "      <td>-0.158594</td>\n",
       "      <td>0.167499</td>\n",
       "      <td>-0.130378</td>\n",
       "      <td>1.762025</td>\n",
       "      <td>-0.692325</td>\n",
       "      <td>0</td>\n",
       "      <td>0</td>\n",
       "      <td>...</td>\n",
       "      <td>0</td>\n",
       "      <td>0</td>\n",
       "      <td>1</td>\n",
       "      <td>0</td>\n",
       "      <td>0</td>\n",
       "      <td>0</td>\n",
       "      <td>0</td>\n",
       "      <td>1</td>\n",
       "      <td>0</td>\n",
       "      <td>1</td>\n",
       "    </tr>\n",
       "    <tr>\n",
       "      <td>3</td>\n",
       "      <td>1</td>\n",
       "      <td>-1.782146</td>\n",
       "      <td>-0.574915</td>\n",
       "      <td>-0.406184</td>\n",
       "      <td>-0.146693</td>\n",
       "      <td>-1.135631</td>\n",
       "      <td>1.414491</td>\n",
       "      <td>-0.692325</td>\n",
       "      <td>0</td>\n",
       "      <td>0</td>\n",
       "      <td>...</td>\n",
       "      <td>0</td>\n",
       "      <td>0</td>\n",
       "      <td>0</td>\n",
       "      <td>1</td>\n",
       "      <td>0</td>\n",
       "      <td>0</td>\n",
       "      <td>0</td>\n",
       "      <td>1</td>\n",
       "      <td>0</td>\n",
       "      <td>1</td>\n",
       "    </tr>\n",
       "    <tr>\n",
       "      <td>...</td>\n",
       "      <td>...</td>\n",
       "      <td>...</td>\n",
       "      <td>...</td>\n",
       "      <td>...</td>\n",
       "      <td>...</td>\n",
       "      <td>...</td>\n",
       "      <td>...</td>\n",
       "      <td>...</td>\n",
       "      <td>...</td>\n",
       "      <td>...</td>\n",
       "      <td>...</td>\n",
       "      <td>...</td>\n",
       "      <td>...</td>\n",
       "      <td>...</td>\n",
       "      <td>...</td>\n",
       "      <td>...</td>\n",
       "      <td>...</td>\n",
       "      <td>...</td>\n",
       "      <td>...</td>\n",
       "      <td>...</td>\n",
       "      <td>...</td>\n",
       "    </tr>\n",
       "    <tr>\n",
       "      <td>64</td>\n",
       "      <td>0</td>\n",
       "      <td>-0.565041</td>\n",
       "      <td>-1.076450</td>\n",
       "      <td>0.584176</td>\n",
       "      <td>1.508054</td>\n",
       "      <td>-1.035106</td>\n",
       "      <td>-0.701606</td>\n",
       "      <td>-0.012315</td>\n",
       "      <td>0</td>\n",
       "      <td>0</td>\n",
       "      <td>...</td>\n",
       "      <td>0</td>\n",
       "      <td>0</td>\n",
       "      <td>1</td>\n",
       "      <td>0</td>\n",
       "      <td>0</td>\n",
       "      <td>1</td>\n",
       "      <td>0</td>\n",
       "      <td>0</td>\n",
       "      <td>0</td>\n",
       "      <td>0</td>\n",
       "    </tr>\n",
       "    <tr>\n",
       "      <td>65</td>\n",
       "      <td>1</td>\n",
       "      <td>-0.260765</td>\n",
       "      <td>-0.431619</td>\n",
       "      <td>-1.148953</td>\n",
       "      <td>-0.115274</td>\n",
       "      <td>-0.230903</td>\n",
       "      <td>1.568950</td>\n",
       "      <td>-0.692325</td>\n",
       "      <td>0</td>\n",
       "      <td>0</td>\n",
       "      <td>...</td>\n",
       "      <td>0</td>\n",
       "      <td>0</td>\n",
       "      <td>0</td>\n",
       "      <td>0</td>\n",
       "      <td>0</td>\n",
       "      <td>0</td>\n",
       "      <td>1</td>\n",
       "      <td>0</td>\n",
       "      <td>0</td>\n",
       "      <td>1</td>\n",
       "    </tr>\n",
       "    <tr>\n",
       "      <td>66</td>\n",
       "      <td>0</td>\n",
       "      <td>-0.260765</td>\n",
       "      <td>-1.076450</td>\n",
       "      <td>-1.148953</td>\n",
       "      <td>0.942508</td>\n",
       "      <td>-0.934581</td>\n",
       "      <td>-0.717052</td>\n",
       "      <td>0.148924</td>\n",
       "      <td>0</td>\n",
       "      <td>0</td>\n",
       "      <td>...</td>\n",
       "      <td>0</td>\n",
       "      <td>0</td>\n",
       "      <td>0</td>\n",
       "      <td>1</td>\n",
       "      <td>0</td>\n",
       "      <td>0</td>\n",
       "      <td>0</td>\n",
       "      <td>0</td>\n",
       "      <td>1</td>\n",
       "      <td>0</td>\n",
       "    </tr>\n",
       "    <tr>\n",
       "      <td>67</td>\n",
       "      <td>0</td>\n",
       "      <td>-0.869317</td>\n",
       "      <td>0.571452</td>\n",
       "      <td>0.336586</td>\n",
       "      <td>-1.618161</td>\n",
       "      <td>-0.230903</td>\n",
       "      <td>-0.709329</td>\n",
       "      <td>5.056210</td>\n",
       "      <td>0</td>\n",
       "      <td>0</td>\n",
       "      <td>...</td>\n",
       "      <td>1</td>\n",
       "      <td>0</td>\n",
       "      <td>0</td>\n",
       "      <td>1</td>\n",
       "      <td>0</td>\n",
       "      <td>0</td>\n",
       "      <td>1</td>\n",
       "      <td>0</td>\n",
       "      <td>1</td>\n",
       "      <td>0</td>\n",
       "    </tr>\n",
       "  </tbody>\n",
       "</table>\n",
       "<p>68 rows × 390 columns</p>\n",
       "</div>"
      ],
      "text/plain": [
       "    V0        V3        V4        V5       V15       V18       V19       V21  \\\n",
       "0    0  0.499926 -0.646563 -0.653774  0.685917 -0.431954 -0.697744  1.137392   \n",
       "1    0 -0.869317 -0.861507  0.336586  0.596896 -0.230903 -0.697744  1.410798   \n",
       "2    1 -0.717179 -1.004802 -0.158594  0.167499 -0.130378  1.762025 -0.692325   \n",
       "3    1 -1.782146 -0.574915 -0.406184 -0.146693 -1.135631  1.414491 -0.692325   \n",
       "..  ..       ...       ...       ...       ...       ...       ...       ...   \n",
       "64   0 -0.565041 -1.076450  0.584176  1.508054 -1.035106 -0.701606 -0.012315   \n",
       "65   1 -0.260765 -0.431619 -1.148953 -0.115274 -0.230903  1.568950 -0.692325   \n",
       "66   0 -0.260765 -1.076450 -1.148953  0.942508 -0.934581 -0.717052  0.148924   \n",
       "67   0 -0.869317  0.571452  0.336586 -1.618161 -0.230903 -0.709329  5.056210   \n",
       "\n",
       "    V1_9  V2_530439  ...  V14_3  V16_2  V16_3  V16_4  V17_2  V17_3  V17_4  \\\n",
       "0      0          0  ...      0      0      0      1      1      0      0   \n",
       "1      0          0  ...      0      0      1      0      0      0      0   \n",
       "2      0          0  ...      0      0      1      0      0      0      0   \n",
       "3      0          0  ...      0      0      0      1      0      0      0   \n",
       "..   ...        ...  ...    ...    ...    ...    ...    ...    ...    ...   \n",
       "64     0          0  ...      0      0      1      0      0      1      0   \n",
       "65     0          0  ...      0      0      0      0      0      0      1   \n",
       "66     0          0  ...      0      0      0      1      0      0      0   \n",
       "67     0          0  ...      1      0      0      1      0      0      1   \n",
       "\n",
       "    V17_5  V20_2  V20_3  \n",
       "0       0      1      0  \n",
       "1       1      0      0  \n",
       "2       1      0      1  \n",
       "3       1      0      1  \n",
       "..    ...    ...    ...  \n",
       "64      0      0      0  \n",
       "65      0      0      1  \n",
       "66      0      1      0  \n",
       "67      0      1      0  \n",
       "\n",
       "[68 rows x 390 columns]"
      ]
     },
     "execution_count": 24,
     "metadata": {},
     "output_type": "execute_result"
    }
   ],
   "source": [
    "scaler = StandardScaler()\n",
    "Dapp_imputed[liste_numerical] = scaler.fit_transform(Dapp_imputed[liste_numerical])\n",
    "Dapp_imputed[\"V0\"] = pd.Series([1 if(x==\"1\") else 0 for x in Dapp_imputed[\"V0\"]])\n",
    "Dapp_imputed = Dapp_imputed.astype({\"V0\" : \"int32\"})\n",
    "Dapp_imputed = pd.get_dummies(Dapp_imputed , columns = liste_cat_bis , drop_first = True)\n",
    "\n",
    "Dtest_imputed[liste_numerical] = scaler.transform(Dtest_imputed[liste_numerical])\n",
    "Dtest_imputed[\"V0\"] = pd.Series([1 if(x==\"1\") else 0 for x in Dtest_imputed[\"V0\"]])\n",
    "Dtest_imputed = Dtest_imputed.astype({\"V0\" : \"int32\"})\n",
    "Dtest_imputed = pd.get_dummies(Dtest_imputed , columns = liste_cat_bis , drop_first = True)\n",
    "\n",
    "Dapp_imputed\n",
    "Dtest_imputed"
   ]
  },
  {
   "cell_type": "code",
   "execution_count": 25,
   "metadata": {},
   "outputs": [
    {
     "data": {
      "text/html": [
       "<div>\n",
       "<style scoped>\n",
       "    .dataframe tbody tr th:only-of-type {\n",
       "        vertical-align: middle;\n",
       "    }\n",
       "\n",
       "    .dataframe tbody tr th {\n",
       "        vertical-align: top;\n",
       "    }\n",
       "\n",
       "    .dataframe thead th {\n",
       "        text-align: right;\n",
       "    }\n",
       "</style>\n",
       "<table border=\"1\" class=\"dataframe\">\n",
       "  <thead>\n",
       "    <tr style=\"text-align: right;\">\n",
       "      <th></th>\n",
       "      <th>V0</th>\n",
       "      <th>V3</th>\n",
       "      <th>V4</th>\n",
       "      <th>V5</th>\n",
       "      <th>V15</th>\n",
       "      <th>V18</th>\n",
       "      <th>V19</th>\n",
       "      <th>V21</th>\n",
       "      <th>V1_9</th>\n",
       "      <th>V2_530439</th>\n",
       "      <th>...</th>\n",
       "      <th>V14_3</th>\n",
       "      <th>V16_2</th>\n",
       "      <th>V16_3</th>\n",
       "      <th>V16_4</th>\n",
       "      <th>V17_2</th>\n",
       "      <th>V17_3</th>\n",
       "      <th>V17_4</th>\n",
       "      <th>V17_5</th>\n",
       "      <th>V20_2</th>\n",
       "      <th>V20_3</th>\n",
       "    </tr>\n",
       "  </thead>\n",
       "  <tbody>\n",
       "    <tr>\n",
       "      <td>0</td>\n",
       "      <td>0</td>\n",
       "      <td>0.499926</td>\n",
       "      <td>-0.216675</td>\n",
       "      <td>-0.158594</td>\n",
       "      <td>0.570713</td>\n",
       "      <td>-0.130378</td>\n",
       "      <td>-0.616653</td>\n",
       "      <td>0.352226</td>\n",
       "      <td>0</td>\n",
       "      <td>0</td>\n",
       "      <td>...</td>\n",
       "      <td>0</td>\n",
       "      <td>0</td>\n",
       "      <td>1</td>\n",
       "      <td>0</td>\n",
       "      <td>0</td>\n",
       "      <td>0</td>\n",
       "      <td>0</td>\n",
       "      <td>1</td>\n",
       "      <td>0</td>\n",
       "      <td>1</td>\n",
       "    </tr>\n",
       "    <tr>\n",
       "      <td>1</td>\n",
       "      <td>1</td>\n",
       "      <td>1.564893</td>\n",
       "      <td>0.571452</td>\n",
       "      <td>-0.653774</td>\n",
       "      <td>-1.586742</td>\n",
       "      <td>0.372249</td>\n",
       "      <td>2.341248</td>\n",
       "      <td>-0.692325</td>\n",
       "      <td>0</td>\n",
       "      <td>0</td>\n",
       "      <td>...</td>\n",
       "      <td>0</td>\n",
       "      <td>0</td>\n",
       "      <td>0</td>\n",
       "      <td>1</td>\n",
       "      <td>1</td>\n",
       "      <td>0</td>\n",
       "      <td>0</td>\n",
       "      <td>0</td>\n",
       "      <td>1</td>\n",
       "      <td>0</td>\n",
       "    </tr>\n",
       "    <tr>\n",
       "      <td>2</td>\n",
       "      <td>0</td>\n",
       "      <td>0.195650</td>\n",
       "      <td>-1.148098</td>\n",
       "      <td>-0.406184</td>\n",
       "      <td>0.743519</td>\n",
       "      <td>-1.336682</td>\n",
       "      <td>-0.682298</td>\n",
       "      <td>0.176966</td>\n",
       "      <td>0</td>\n",
       "      <td>0</td>\n",
       "      <td>...</td>\n",
       "      <td>0</td>\n",
       "      <td>0</td>\n",
       "      <td>0</td>\n",
       "      <td>0</td>\n",
       "      <td>0</td>\n",
       "      <td>0</td>\n",
       "      <td>0</td>\n",
       "      <td>0</td>\n",
       "      <td>1</td>\n",
       "      <td>0</td>\n",
       "    </tr>\n",
       "    <tr>\n",
       "      <td>3</td>\n",
       "      <td>1</td>\n",
       "      <td>1.412754</td>\n",
       "      <td>3.294073</td>\n",
       "      <td>3.307665</td>\n",
       "      <td>0.214628</td>\n",
       "      <td>0.171198</td>\n",
       "      <td>-0.662991</td>\n",
       "      <td>1.621110</td>\n",
       "      <td>1</td>\n",
       "      <td>0</td>\n",
       "      <td>...</td>\n",
       "      <td>0</td>\n",
       "      <td>0</td>\n",
       "      <td>1</td>\n",
       "      <td>0</td>\n",
       "      <td>0</td>\n",
       "      <td>0</td>\n",
       "      <td>0</td>\n",
       "      <td>1</td>\n",
       "      <td>0</td>\n",
       "      <td>1</td>\n",
       "    </tr>\n",
       "    <tr>\n",
       "      <td>...</td>\n",
       "      <td>...</td>\n",
       "      <td>...</td>\n",
       "      <td>...</td>\n",
       "      <td>...</td>\n",
       "      <td>...</td>\n",
       "      <td>...</td>\n",
       "      <td>...</td>\n",
       "      <td>...</td>\n",
       "      <td>...</td>\n",
       "      <td>...</td>\n",
       "      <td>...</td>\n",
       "      <td>...</td>\n",
       "      <td>...</td>\n",
       "      <td>...</td>\n",
       "      <td>...</td>\n",
       "      <td>...</td>\n",
       "      <td>...</td>\n",
       "      <td>...</td>\n",
       "      <td>...</td>\n",
       "      <td>...</td>\n",
       "      <td>...</td>\n",
       "    </tr>\n",
       "    <tr>\n",
       "      <td>296</td>\n",
       "      <td>0</td>\n",
       "      <td>-1.477870</td>\n",
       "      <td>-0.001731</td>\n",
       "      <td>-0.406184</td>\n",
       "      <td>-0.240951</td>\n",
       "      <td>-0.230903</td>\n",
       "      <td>-0.072955</td>\n",
       "      <td>0.219029</td>\n",
       "      <td>0</td>\n",
       "      <td>0</td>\n",
       "      <td>...</td>\n",
       "      <td>0</td>\n",
       "      <td>0</td>\n",
       "      <td>0</td>\n",
       "      <td>1</td>\n",
       "      <td>0</td>\n",
       "      <td>0</td>\n",
       "      <td>1</td>\n",
       "      <td>0</td>\n",
       "      <td>0</td>\n",
       "      <td>1</td>\n",
       "    </tr>\n",
       "    <tr>\n",
       "      <td>297</td>\n",
       "      <td>1</td>\n",
       "      <td>-1.021455</td>\n",
       "      <td>-0.001731</td>\n",
       "      <td>-0.034799</td>\n",
       "      <td>0.596896</td>\n",
       "      <td>1.377502</td>\n",
       "      <td>-0.678437</td>\n",
       "      <td>0.499445</td>\n",
       "      <td>0</td>\n",
       "      <td>0</td>\n",
       "      <td>...</td>\n",
       "      <td>0</td>\n",
       "      <td>0</td>\n",
       "      <td>1</td>\n",
       "      <td>0</td>\n",
       "      <td>0</td>\n",
       "      <td>0</td>\n",
       "      <td>0</td>\n",
       "      <td>1</td>\n",
       "      <td>0</td>\n",
       "      <td>1</td>\n",
       "    </tr>\n",
       "    <tr>\n",
       "      <td>298</td>\n",
       "      <td>1</td>\n",
       "      <td>-2.542836</td>\n",
       "      <td>1.001339</td>\n",
       "      <td>-0.406184</td>\n",
       "      <td>-0.686057</td>\n",
       "      <td>0.372249</td>\n",
       "      <td>-0.709329</td>\n",
       "      <td>0.289133</td>\n",
       "      <td>0</td>\n",
       "      <td>0</td>\n",
       "      <td>...</td>\n",
       "      <td>0</td>\n",
       "      <td>0</td>\n",
       "      <td>0</td>\n",
       "      <td>1</td>\n",
       "      <td>0</td>\n",
       "      <td>0</td>\n",
       "      <td>1</td>\n",
       "      <td>0</td>\n",
       "      <td>0</td>\n",
       "      <td>1</td>\n",
       "    </tr>\n",
       "    <tr>\n",
       "      <td>299</td>\n",
       "      <td>1</td>\n",
       "      <td>-1.477870</td>\n",
       "      <td>-1.148098</td>\n",
       "      <td>-0.653774</td>\n",
       "      <td>-1.372044</td>\n",
       "      <td>-1.035106</td>\n",
       "      <td>1.453105</td>\n",
       "      <td>-1.393365</td>\n",
       "      <td>0</td>\n",
       "      <td>0</td>\n",
       "      <td>...</td>\n",
       "      <td>0</td>\n",
       "      <td>0</td>\n",
       "      <td>0</td>\n",
       "      <td>1</td>\n",
       "      <td>0</td>\n",
       "      <td>0</td>\n",
       "      <td>0</td>\n",
       "      <td>0</td>\n",
       "      <td>0</td>\n",
       "      <td>0</td>\n",
       "    </tr>\n",
       "  </tbody>\n",
       "</table>\n",
       "<p>300 rows × 390 columns</p>\n",
       "</div>"
      ],
      "text/plain": [
       "     V0        V3        V4        V5       V15       V18       V19       V21  \\\n",
       "0     0  0.499926 -0.216675 -0.158594  0.570713 -0.130378 -0.616653  0.352226   \n",
       "1     1  1.564893  0.571452 -0.653774 -1.586742  0.372249  2.341248 -0.692325   \n",
       "2     0  0.195650 -1.148098 -0.406184  0.743519 -1.336682 -0.682298  0.176966   \n",
       "3     1  1.412754  3.294073  3.307665  0.214628  0.171198 -0.662991  1.621110   \n",
       "..   ..       ...       ...       ...       ...       ...       ...       ...   \n",
       "296   0 -1.477870 -0.001731 -0.406184 -0.240951 -0.230903 -0.072955  0.219029   \n",
       "297   1 -1.021455 -0.001731 -0.034799  0.596896  1.377502 -0.678437  0.499445   \n",
       "298   1 -2.542836  1.001339 -0.406184 -0.686057  0.372249 -0.709329  0.289133   \n",
       "299   1 -1.477870 -1.148098 -0.653774 -1.372044 -1.035106  1.453105 -1.393365   \n",
       "\n",
       "     V1_9  V2_530439  ...  V14_3  V16_2  V16_3  V16_4  V17_2  V17_3  V17_4  \\\n",
       "0       0          0  ...      0      0      1      0      0      0      0   \n",
       "1       0          0  ...      0      0      0      1      1      0      0   \n",
       "2       0          0  ...      0      0      0      0      0      0      0   \n",
       "3       1          0  ...      0      0      1      0      0      0      0   \n",
       "..    ...        ...  ...    ...    ...    ...    ...    ...    ...    ...   \n",
       "296     0          0  ...      0      0      0      1      0      0      1   \n",
       "297     0          0  ...      0      0      1      0      0      0      0   \n",
       "298     0          0  ...      0      0      0      1      0      0      1   \n",
       "299     0          0  ...      0      0      0      1      0      0      0   \n",
       "\n",
       "     V17_5  V20_2  V20_3  \n",
       "0        1      0      1  \n",
       "1        0      1      0  \n",
       "2        0      1      0  \n",
       "3        1      0      1  \n",
       "..     ...    ...    ...  \n",
       "296      0      0      1  \n",
       "297      1      0      1  \n",
       "298      0      0      1  \n",
       "299      0      0      0  \n",
       "\n",
       "[300 rows x 390 columns]"
      ]
     },
     "execution_count": 25,
     "metadata": {},
     "output_type": "execute_result"
    }
   ],
   "source": [
    "Dapp_imputed"
   ]
  },
  {
   "cell_type": "code",
   "execution_count": 26,
   "metadata": {
    "scrolled": true
   },
   "outputs": [],
   "source": [
    "X_train = Dapp_imputed.drop([\"V0\"] , axis = 1) ; Y_train = Dapp_imputed[\"V0\"]\n",
    "X_test = Dtest_imputed.drop([\"V0\"] , axis = 1) ; Y_test = Dtest_imputed[\"V0\"]\n",
    "#Voici nos jeux de données d'entrainement ainsi que de tests"
   ]
  },
  {
   "cell_type": "code",
   "execution_count": 27,
   "metadata": {},
   "outputs": [
    {
     "data": {
      "text/plain": [
       "0.0"
      ]
     },
     "execution_count": 27,
     "metadata": {},
     "output_type": "execute_result"
    }
   ],
   "source": [
    "np.linalg.det(np.dot(np.transpose(X_train) , X_train)) #la matrice de design n'est pas de rang plein, rien ne nous garantit que\n",
    "#que l'on atteindra un minimum global en faisant une régression logistique\n",
    "#on décide de pénaliser celle-ci avec une pénalité de type ridge"
   ]
  },
  {
   "cell_type": "code",
   "execution_count": 61,
   "metadata": {},
   "outputs": [
    {
     "data": {
      "text/plain": [
       "0.7941176470588235"
      ]
     },
     "execution_count": 61,
     "metadata": {},
     "output_type": "execute_result"
    }
   ],
   "source": [
    "def param_selection_log(X, y,Cs):\n",
    "    logreg = LogisticRegression(penalty = \"l2\", solver = \"lbfgs\" , max_iter = 5000 , tol = 1e-6)\n",
    "    parameters = {'C':Cs}\n",
    "    clf = GridSearchCV(logreg, parameters, cv = KFold(n_splits = 300))\n",
    "    clf.fit(X_train, Y_train)\n",
    "    return clf.best_params_\n",
    "\n",
    "C_log = param_selection_log(X_train, Y_train , [.001 , 0.01 , 0.1 , 1 , 10 , 100])[\"C\"]\n",
    "#Naturellement, on se dirigera vers les SVM non linéaires de manière à déterminer un hyperplan dans un espace \n",
    "#de plus grande dimension\n",
    "\n",
    "logreg = LogisticRegression(penalty = \"l2\", solver = \"lbfgs\" , max_iter = 5000 , tol = 1e-6 , C = C_log)\n",
    "logreg.fit(X_train , Y_train)\n",
    "y_pred = logreg.predict(X_test)\n",
    "y_fit = logreg.predict(X_train)\n",
    "accuracy_score(y_pred, Y_test)"
   ]
  },
  {
   "cell_type": "code",
   "execution_count": null,
   "metadata": {},
   "outputs": [],
   "source": [
    "accuracy_score(y_fit, Y_train) #on dipose d'une erreur d'apprentissage nulle\n",
    "#cela laisse présager du sur-apprentissage --> dès lors on peut remettre en doute notre performance\n",
    "#de plus, on constate qu'il existe une séparation linéaire des données\n",
    "#nous allons donc utiliser un autre classifieur linéaire : SVML\n",
    "#une SVM à noyaux est inutile"
   ]
  },
  {
   "cell_type": "code",
   "execution_count": 63,
   "metadata": {},
   "outputs": [],
   "source": [
    "Y_train = pd.Series([-1 if(y==0) else 1 for y in Y_train])\n",
    "Y_test = pd.Series([-1 if(y==0) else 1 for y in Y_test])"
   ]
  },
  {
   "cell_type": "code",
   "execution_count": 69,
   "metadata": {
    "scrolled": false
   },
   "outputs": [
    {
     "data": {
      "text/plain": [
       "0.8088235294117647"
      ]
     },
     "execution_count": 69,
     "metadata": {},
     "output_type": "execute_result"
    }
   ],
   "source": [
    "def svc_param_selection_lin(X, y,Cs):\n",
    "    parameters = {'kernel':['linear'], 'C':Cs}\n",
    "    svc = svm.SVC(gamma = 1 , coef0 = 0)\n",
    "    clf = GridSearchCV(svc, parameters , return_train_score = True , cv = KFold(n_splits = 3))\n",
    "    clf.fit(X_train, Y_train)\n",
    "    return clf.best_params_\n",
    "##on effectue une VC 3-fold car moins coûteuse\n",
    "C_lin = svc_param_selection_lin(X_train, Y_train , [.001 , 0.01 , 0.1 , 1 , 10 , 100])[\"C\"]\n",
    "\n",
    "svm_lin = LinearSVC(C = C_lin , max_iter = 10000)\n",
    "svm_lin.fit(X_train , Y_train)\n",
    "y_pred = svm_lin.predict(X_test)\n",
    "y_fit = svm_lin.predict(X_train)\n",
    "accuracy_score(y_pred, Y_test)\n",
    "#même performance que la régression logistique et même problème que la régression logistique\n",
    "#tout laisse penser que l'on est face à un problème de sur-apprentissage\n"
   ]
  },
  {
   "cell_type": "code",
   "execution_count": 70,
   "metadata": {},
   "outputs": [
    {
     "data": {
      "text/plain": [
       "1.0"
      ]
     },
     "execution_count": 70,
     "metadata": {},
     "output_type": "execute_result"
    }
   ],
   "source": [
    "accuracy_score(y_fit, Y_train)\n"
   ]
  },
  {
   "cell_type": "code",
   "execution_count": 77,
   "metadata": {
    "scrolled": true
   },
   "outputs": [
    {
     "data": {
      "text/plain": [
       "0.7941176470588235"
      ]
     },
     "execution_count": 77,
     "metadata": {},
     "output_type": "execute_result"
    }
   ],
   "source": [
    "def svc_param_selection_poly(X, y,Cs , degree):\n",
    "    Cs = list(np.unique([round(x,3) for x in Cs]))\n",
    "    parameters = {'kernel':['poly'], 'C':Cs , \"degree\" : degree}\n",
    "    svc = svm.SVC(gamma = \"auto\")\n",
    "    clf = GridSearchCV(svc, parameters , return_train_score = True , cv = KFold(n_splits = 3))\n",
    "    clf.fit(X_train, Y_train)\n",
    "    return clf.best_params_\n",
    "params_poly = svc_param_selection_poly(X_train, Y_train , [.001 , 0.01 , 0.1 , 1 , 10 , 100 , 1000] , list(range(1,4)))\n",
    "ksvm_poly = svm.SVC(kernel=\"poly\", degree = params_poly[\"degree\"] , C = params_poly[\"C\"] , gamma = \"auto\")               \n",
    "ksvm_poly.fit(X_train, Y_train)\n",
    "y_pred = ksvm_poly.predict(X_test)\n",
    "y_fit = ksvm_poly.predict(X_train)\n",
    "accuracy_score(y_pred, Y_test)\n",
    "## même constat pour ce modèle, on retrouve une SVM linéaire avec une erreur d'ajustement nulle\n",
    "#choisir le paramètre du modèle selon la validation croisée nous amnère dans les 3 denrières méthodes utilisées à choisir\n",
    "#la complexité la plus grande"
   ]
  },
  {
   "cell_type": "code",
   "execution_count": 80,
   "metadata": {},
   "outputs": [
    {
     "data": {
      "text/plain": [
       "1.0"
      ]
     },
     "execution_count": 80,
     "metadata": {},
     "output_type": "execute_result"
    }
   ],
   "source": [
    "accuracy_score(y_fit, Y_train)\n"
   ]
  },
  {
   "cell_type": "code",
   "execution_count": null,
   "metadata": {},
   "outputs": [],
   "source": [
    "params_poly"
   ]
  },
  {
   "cell_type": "code",
   "execution_count": 81,
   "metadata": {},
   "outputs": [],
   "source": [
    "def oob_m(liste): #renvoie le m minimisant l'erreur OOB\n",
    "    l = []\n",
    "    for m in liste:\n",
    "        clf = RandomForestClassifier(random_state = 0,\n",
    "                             n_estimators = 100 , max_features = m , min_samples_split = 2,\n",
    "                            oob_score = True)\n",
    "        clf.fit(X_train, Y_train)\n",
    "        l.append((m , clf.oob_score_))\n",
    "    return min(l , key = lambda x : x[1])[0]\n",
    "\n",
    "m = oob_m(range(1,8))"
   ]
  },
  {
   "cell_type": "code",
   "execution_count": 82,
   "metadata": {},
   "outputs": [
    {
     "data": {
      "text/plain": [
       "0.7352941176470589"
      ]
     },
     "execution_count": 82,
     "metadata": {},
     "output_type": "execute_result"
    }
   ],
   "source": [
    "clf = RandomForestClassifier(random_state = 0,\n",
    "                             n_estimators = 100 , max_features = m , min_samples_split = 2,\n",
    "                            oob_score = True)\n",
    "clf.fit(X_train, Y_train)\n",
    "y_pred = clf.predict(X_test)\n",
    "y_fit = clf.predict(X_train)\n",
    "accuracy_score(y_pred, Y_test)\n",
    "#accuracy_score(y_fit, Y_train)\n",
    "\n",
    "#moins performante que les précédentes mais l'erreur d'ajustement est nulle aussi"
   ]
  },
  {
   "cell_type": "code",
   "execution_count": 83,
   "metadata": {},
   "outputs": [
    {
     "data": {
      "text/plain": [
       "1.0"
      ]
     },
     "execution_count": 83,
     "metadata": {},
     "output_type": "execute_result"
    }
   ],
   "source": [
    "accuracy_score(y_fit, Y_train)"
   ]
  },
  {
   "cell_type": "code",
   "execution_count": 84,
   "metadata": {},
   "outputs": [],
   "source": [
    "def rfc_CV(ms):\n",
    "    rfc = RandomForestClassifier(random_state = 0, min_samples_split = 2,\n",
    "                            oob_score = True , n_estimators = 100)\n",
    "    param_grid = {'max_features': ms}\n",
    "    CV_rfc = GridSearchCV(estimator=rfc, param_grid=param_grid, cv= KFold(n_splits = 3))\n",
    "    CV_rfc.fit(X_train, Y_train)\n",
    "    return CV_rfc.best_params_[\"max_features\"]\n",
    "#on décide de faire une 3-fold car la LOO est coûteuse"
   ]
  },
  {
   "cell_type": "code",
   "execution_count": 85,
   "metadata": {},
   "outputs": [
    {
     "data": {
      "text/plain": [
       "0.7647058823529411"
      ]
     },
     "execution_count": 85,
     "metadata": {},
     "output_type": "execute_result"
    }
   ],
   "source": [
    "ms = list(range(1,6))\n",
    "m = rfc_CV(ms)\n",
    "rfc = RandomForestClassifier(random_state = 0,\n",
    "                             n_estimators = 100 , max_features = m , min_samples_split = 2,\n",
    "                            oob_score = True)\n",
    "rfc.fit(X_train, Y_train)\n",
    "y_pred = rfc.predict(X_test)\n",
    "y_fit = rfc.predict(X_train)\n",
    "accuracy_score(y_pred, Y_test)\n",
    "accuracy_score(y_fit, Y_train)\n",
    "#idem que précédemment"
   ]
  },
  {
   "cell_type": "code",
   "execution_count": 115,
   "metadata": {},
   "outputs": [],
   "source": [
    "def knn_CV(ks):\n",
    "    neigh = KNeighborsClassifier()\n",
    "    param_grid = {'n_neighbors': ks}\n",
    "    CV_knn = GridSearchCV(estimator=neigh, param_grid=param_grid, cv= KFold(n_splits = 3))\n",
    "    CV_knn.fit(X_train, Y_train)\n",
    "    return CV_knn.best_params_[\"n_neighbors\"]\n",
    "k = knn_CV(list(range(1,100)))"
   ]
  },
  {
   "cell_type": "code",
   "execution_count": 116,
   "metadata": {},
   "outputs": [
    {
     "data": {
      "text/plain": [
       "0.7794117647058824"
      ]
     },
     "execution_count": 116,
     "metadata": {},
     "output_type": "execute_result"
    }
   ],
   "source": [
    "neigh = KNeighborsClassifier(n_neighbors=k)\n",
    "neigh.fit(X_train, Y_train)\n",
    "y_pred = neigh.predict(X_test)\n",
    "y_fit = neigh.predict(X_train)\n",
    "accuracy_score(y_pred, Y_test)\n",
    "#accuracy_score(y_fit , Y_train)\n",
    "#aussi surprenant que cela puisse paraître le modèle qui ne semble pas souffrir de sur-apprentissage\n",
    "#est k-ppv "
   ]
  },
  {
   "cell_type": "code",
   "execution_count": 94,
   "metadata": {},
   "outputs": [
    {
     "data": {
      "text/plain": [
       "22"
      ]
     },
     "execution_count": 94,
     "metadata": {},
     "output_type": "execute_result"
    }
   ],
   "source": [
    "k"
   ]
  },
  {
   "cell_type": "code",
   "execution_count": 117,
   "metadata": {},
   "outputs": [
    {
     "data": {
      "text/plain": [
       "0.7433333333333333"
      ]
     },
     "execution_count": 117,
     "metadata": {},
     "output_type": "execute_result"
    }
   ],
   "source": [
    "accuracy_score(y_fit , Y_train)"
   ]
  },
  {
   "cell_type": "code",
   "execution_count": 104,
   "metadata": {},
   "outputs": [],
   "source": [
    "def ada_CV(ns):\n",
    "    ada = AdaBoostClassifier(random_state=0)\n",
    "    param_grid = {'n_estimators': ns}\n",
    "    CV_ada = GridSearchCV(estimator=ada, param_grid=param_grid, cv= KFold(n_splits = 3))\n",
    "    CV_ada.fit(X_train, Y_train)\n",
    "    return CV_ada.best_params_[\"n_estimators\"]\n",
    "B = ada_CV(list(range(1,100)))"
   ]
  },
  {
   "cell_type": "code",
   "execution_count": 105,
   "metadata": {},
   "outputs": [
    {
     "data": {
      "text/plain": [
       "0.7647058823529411"
      ]
     },
     "execution_count": 105,
     "metadata": {},
     "output_type": "execute_result"
    }
   ],
   "source": [
    "ada = AdaBoostClassifier(n_estimators = B, random_state=0)\n",
    "ada.fit(X_train, Y_train)\n",
    "y_pred = ada.predict(X_test)\n",
    "y_fit = ada.predict(X_train)\n",
    "accuracy_score(y_pred, Y_test)\n"
   ]
  },
  {
   "cell_type": "code",
   "execution_count": 106,
   "metadata": {},
   "outputs": [
    {
     "data": {
      "text/plain": [
       "0.9633333333333334"
      ]
     },
     "execution_count": 106,
     "metadata": {},
     "output_type": "execute_result"
    }
   ],
   "source": [
    "(accuracy_score(y_fit, Y_train))\n",
    "#ce modèle semble aussi souffrir de sur-apprentissage : avec une grille plus large, nous n'aurions pas d'erreur\n",
    "#d'ajustement"
   ]
  },
  {
   "cell_type": "code",
   "execution_count": 130,
   "metadata": {},
   "outputs": [],
   "source": [
    "def dtree_grid_search(X,y,depth):\n",
    "    param_grid = {'max_depth': depth}\n",
    "    dtree_model=DecisionTreeClassifier(random_state = 0)\n",
    "    dtree_gscv = GridSearchCV(dtree_model, param_grid, cv= KFold(n_splits = 3))\n",
    "    dtree_gscv.fit(X, y)\n",
    "    return dtree_gscv.best_params_\n",
    "\n",
    "P = dtree_grid_search(X_train,Y_train,list(range(3,100)))[\"max_depth\"]\n",
    "\n",
    "arb = DecisionTreeClassifier(random_state=0 , max_depth = P)"
   ]
  },
  {
   "cell_type": "code",
   "execution_count": 132,
   "metadata": {},
   "outputs": [
    {
     "data": {
      "text/plain": [
       "0.7647058823529411"
      ]
     },
     "execution_count": 132,
     "metadata": {},
     "output_type": "execute_result"
    }
   ],
   "source": [
    "arb.fit(X_train, Y_train)\n",
    "y_pred = arb.predict(X_test)\n",
    "y_fit = arb.predict(X_train)\n",
    "accuracy_score(y_pred, Y_test)"
   ]
  },
  {
   "cell_type": "code",
   "execution_count": 133,
   "metadata": {},
   "outputs": [
    {
     "data": {
      "text/plain": [
       "0.9366666666666666"
      ]
     },
     "execution_count": 133,
     "metadata": {},
     "output_type": "execute_result"
    }
   ],
   "source": [
    "accuracy_score(y_fit, Y_train) #idem pour ce modèle"
   ]
  }
 ],
 "metadata": {
  "kernelspec": {
   "display_name": "Python 3",
   "language": "python",
   "name": "python3"
  },
  "language_info": {
   "codemirror_mode": {
    "name": "ipython",
    "version": 3
   },
   "file_extension": ".py",
   "mimetype": "text/x-python",
   "name": "python",
   "nbconvert_exporter": "python",
   "pygments_lexer": "ipython3",
   "version": "3.7.4"
  }
 },
 "nbformat": 4,
 "nbformat_minor": 2
}
